{
 "cells": [
  {
   "cell_type": "markdown",
   "metadata": {},
   "source": [
    "# Redfin Model Prediction"
   ]
  },
  {
   "cell_type": "code",
   "execution_count": 90,
   "metadata": {},
   "outputs": [],
   "source": [
    "import matplotlib.pyplot as plt\n",
    "import seaborn as sns; sns.set()\n",
    "%matplotlib inline\n",
    "\n",
    "import numpy as np\n",
    "import pandas as pd\n",
    "import sklearn\n",
    "\n",
    "from sklearn.linear_model import LinearRegression, Lasso, Ridge\n",
    "from sklearn.preprocessing import RobustScaler\n",
    "from sklearn.model_selection import cross_validate, cross_val_predict, cross_val_score\n",
    "from sklearn.pipeline import make_pipeline\n",
    "from sklearn.ensemble import BaggingRegressor\n",
    "from pyearth import Earth\n",
    "\n",
    "import gc; gc.enable()\n",
    "\n",
    "import warnings\n",
    "warnings.filterwarnings(\"ignore\")"
   ]
  },
  {
   "cell_type": "markdown",
   "metadata": {},
   "source": [
    "Importing currently listed Redfin homes (unsold)"
   ]
  },
  {
   "cell_type": "code",
   "execution_count": 91,
   "metadata": {},
   "outputs": [],
   "source": [
    "df = pd.read_csv('Redfin_KC_listings.csv')"
   ]
  },
  {
   "cell_type": "code",
   "execution_count": 92,
   "metadata": {},
   "outputs": [
    {
     "data": {
      "text/html": [
       "<div>\n",
       "<style scoped>\n",
       "    .dataframe tbody tr th:only-of-type {\n",
       "        vertical-align: middle;\n",
       "    }\n",
       "\n",
       "    .dataframe tbody tr th {\n",
       "        vertical-align: top;\n",
       "    }\n",
       "\n",
       "    .dataframe thead th {\n",
       "        text-align: right;\n",
       "    }\n",
       "</style>\n",
       "<table border=\"1\" class=\"dataframe\">\n",
       "  <thead>\n",
       "    <tr style=\"text-align: right;\">\n",
       "      <th></th>\n",
       "      <th>Unnamed: 0</th>\n",
       "      <th>zipcode</th>\n",
       "      <th>price</th>\n",
       "      <th>bedrooms</th>\n",
       "      <th>bathrooms</th>\n",
       "      <th>sqft_living</th>\n",
       "      <th>yr_built</th>\n",
       "      <th>lat</th>\n",
       "      <th>long</th>\n",
       "    </tr>\n",
       "  </thead>\n",
       "  <tbody>\n",
       "    <tr>\n",
       "      <td>count</td>\n",
       "      <td>350.000000</td>\n",
       "      <td>350.000000</td>\n",
       "      <td>3.500000e+02</td>\n",
       "      <td>350.000000</td>\n",
       "      <td>309.000000</td>\n",
       "      <td>311.000000</td>\n",
       "      <td>311.000000</td>\n",
       "      <td>350.000000</td>\n",
       "      <td>350.000000</td>\n",
       "    </tr>\n",
       "    <tr>\n",
       "      <td>mean</td>\n",
       "      <td>174.500000</td>\n",
       "      <td>98080.645714</td>\n",
       "      <td>7.264843e+05</td>\n",
       "      <td>2.997143</td>\n",
       "      <td>2.313107</td>\n",
       "      <td>2101.218650</td>\n",
       "      <td>1987.990354</td>\n",
       "      <td>47.520318</td>\n",
       "      <td>-122.226675</td>\n",
       "    </tr>\n",
       "    <tr>\n",
       "      <td>std</td>\n",
       "      <td>101.180532</td>\n",
       "      <td>107.563003</td>\n",
       "      <td>5.679816e+05</td>\n",
       "      <td>1.676568</td>\n",
       "      <td>0.901648</td>\n",
       "      <td>1023.091424</td>\n",
       "      <td>30.276626</td>\n",
       "      <td>0.147030</td>\n",
       "      <td>0.133173</td>\n",
       "    </tr>\n",
       "    <tr>\n",
       "      <td>min</td>\n",
       "      <td>0.000000</td>\n",
       "      <td>98001.000000</td>\n",
       "      <td>3.500000e+04</td>\n",
       "      <td>0.000000</td>\n",
       "      <td>0.750000</td>\n",
       "      <td>366.000000</td>\n",
       "      <td>1904.000000</td>\n",
       "      <td>47.192778</td>\n",
       "      <td>-122.515085</td>\n",
       "    </tr>\n",
       "    <tr>\n",
       "      <td>25%</td>\n",
       "      <td>87.250000</td>\n",
       "      <td>98030.000000</td>\n",
       "      <td>4.382375e+05</td>\n",
       "      <td>2.000000</td>\n",
       "      <td>1.750000</td>\n",
       "      <td>1254.500000</td>\n",
       "      <td>1968.000000</td>\n",
       "      <td>47.385974</td>\n",
       "      <td>-122.322955</td>\n",
       "    </tr>\n",
       "    <tr>\n",
       "      <td>50%</td>\n",
       "      <td>174.500000</td>\n",
       "      <td>98065.000000</td>\n",
       "      <td>6.074745e+05</td>\n",
       "      <td>3.000000</td>\n",
       "      <td>2.250000</td>\n",
       "      <td>2030.000000</td>\n",
       "      <td>1994.000000</td>\n",
       "      <td>47.541891</td>\n",
       "      <td>-122.265448</td>\n",
       "    </tr>\n",
       "    <tr>\n",
       "      <td>75%</td>\n",
       "      <td>261.750000</td>\n",
       "      <td>98117.750000</td>\n",
       "      <td>7.999875e+05</td>\n",
       "      <td>4.000000</td>\n",
       "      <td>2.750000</td>\n",
       "      <td>2792.000000</td>\n",
       "      <td>2019.000000</td>\n",
       "      <td>47.636744</td>\n",
       "      <td>-122.158429</td>\n",
       "    </tr>\n",
       "    <tr>\n",
       "      <td>max</td>\n",
       "      <td>349.000000</td>\n",
       "      <td>99816.000000</td>\n",
       "      <td>4.498000e+06</td>\n",
       "      <td>13.000000</td>\n",
       "      <td>6.000000</td>\n",
       "      <td>7435.000000</td>\n",
       "      <td>2021.000000</td>\n",
       "      <td>47.778571</td>\n",
       "      <td>-121.735239</td>\n",
       "    </tr>\n",
       "  </tbody>\n",
       "</table>\n",
       "</div>"
      ],
      "text/plain": [
       "       Unnamed: 0       zipcode         price    bedrooms   bathrooms  \\\n",
       "count  350.000000    350.000000  3.500000e+02  350.000000  309.000000   \n",
       "mean   174.500000  98080.645714  7.264843e+05    2.997143    2.313107   \n",
       "std    101.180532    107.563003  5.679816e+05    1.676568    0.901648   \n",
       "min      0.000000  98001.000000  3.500000e+04    0.000000    0.750000   \n",
       "25%     87.250000  98030.000000  4.382375e+05    2.000000    1.750000   \n",
       "50%    174.500000  98065.000000  6.074745e+05    3.000000    2.250000   \n",
       "75%    261.750000  98117.750000  7.999875e+05    4.000000    2.750000   \n",
       "max    349.000000  99816.000000  4.498000e+06   13.000000    6.000000   \n",
       "\n",
       "       sqft_living     yr_built         lat        long  \n",
       "count   311.000000   311.000000  350.000000  350.000000  \n",
       "mean   2101.218650  1987.990354   47.520318 -122.226675  \n",
       "std    1023.091424    30.276626    0.147030    0.133173  \n",
       "min     366.000000  1904.000000   47.192778 -122.515085  \n",
       "25%    1254.500000  1968.000000   47.385974 -122.322955  \n",
       "50%    2030.000000  1994.000000   47.541891 -122.265448  \n",
       "75%    2792.000000  2019.000000   47.636744 -122.158429  \n",
       "max    7435.000000  2021.000000   47.778571 -121.735239  "
      ]
     },
     "execution_count": 92,
     "metadata": {},
     "output_type": "execute_result"
    }
   ],
   "source": [
    "df.describe()"
   ]
  },
  {
   "cell_type": "code",
   "execution_count": 93,
   "metadata": {},
   "outputs": [
    {
     "data": {
      "text/plain": [
       "Unnamed: 0                                                                                     0\n",
       "ADDRESS                                                                                        0\n",
       "zipcode                                                                                        0\n",
       "price                                                                                          0\n",
       "bedrooms                                                                                       0\n",
       "bathrooms                                                                                     41\n",
       "sqft_living                                                                                   39\n",
       "yr_built                                                                                      39\n",
       "URL (SEE http://www.redfin.com/buy-a-home/comparative-market-analysis FOR INFO ON PRICING)     0\n",
       "lat                                                                                            0\n",
       "long                                                                                           0\n",
       "dtype: int64"
      ]
     },
     "execution_count": 93,
     "metadata": {},
     "output_type": "execute_result"
    }
   ],
   "source": [
    "df.isna().sum()"
   ]
  },
  {
   "cell_type": "code",
   "execution_count": 94,
   "metadata": {},
   "outputs": [],
   "source": [
    "df.dropna(inplace=True)"
   ]
  },
  {
   "cell_type": "code",
   "execution_count": 95,
   "metadata": {},
   "outputs": [],
   "source": [
    "df['year'] = 2019"
   ]
  },
  {
   "cell_type": "code",
   "execution_count": 96,
   "metadata": {},
   "outputs": [],
   "source": [
    "df = df[(df['bedrooms'] <= 5) & (df['bedrooms'] >= 1)]"
   ]
  },
  {
   "cell_type": "code",
   "execution_count": 97,
   "metadata": {},
   "outputs": [],
   "source": [
    "df = df[df['zipcode'] <= 98199.0]"
   ]
  },
  {
   "cell_type": "code",
   "execution_count": 98,
   "metadata": {},
   "outputs": [],
   "source": [
    "target = 'price'\n"
   ]
  },
  {
   "cell_type": "code",
   "execution_count": 99,
   "metadata": {},
   "outputs": [],
   "source": [
    "real_cols = ['sqft_living', 'lat', 'long', 'year']\n",
    "cat_cols = ['bedrooms', 'bathrooms', 'zipcode']\n",
    "used_cols =  real_cols + cat_cols"
   ]
  },
  {
   "cell_type": "code",
   "execution_count": 100,
   "metadata": {},
   "outputs": [],
   "source": [
    "X, y = df[used_cols], df[target]"
   ]
  },
  {
   "cell_type": "code",
   "execution_count": 101,
   "metadata": {},
   "outputs": [
    {
     "name": "stdout",
     "output_type": "stream",
     "text": [
      "s(0) + s(1) + s(2) + s(3) + te(1, 2) + te(0, 1, 2) + te(4, 5) + te(1, 2, 6) + f(4) + f(5) + f(6)\n"
     ]
    }
   ],
   "source": [
    "from pygam.terms import s as spline\n",
    "from pygam.terms import f as factor\n",
    "from pygam.terms import te as tensor\n",
    "\n",
    "\n",
    "# DEFINE TERMS:\n",
    "#   * splines - for continuous\n",
    "#   * factors - for categorical/discrete \n",
    "#        (assumption: label encoded w/ 0 to level_size-1)\n",
    "#   * tensors - for any interactions\n",
    "\n",
    "# create the term list\n",
    "term_list = []\n",
    "for i, col in enumerate(used_cols):\n",
    "    if col in real_cols:\n",
    "        term_list.append(spline(i))\n",
    "\n",
    "# add the x1 and x2 interaction term\n",
    "term_list.append(tensor(1, 2))\n",
    "term_list.append(tensor(0, 1, 2))\n",
    "term_list.append(tensor(4, 5))\n",
    "term_list.append(tensor(1, 2, 6))\n",
    "\n",
    "\n",
    "\n",
    "# term_list.append(tensor(7, 8, 10))\n",
    "# term_list.append(tensor(0, 4))\n",
    "# term_list.append(tensor(0, 1, 2, 3))\n",
    "\n",
    "\n",
    "\n",
    "\n",
    "# factors\n",
    "for i, col in enumerate(used_cols):\n",
    "    if col in cat_cols:\n",
    "        term_list.append(factor(i))\n",
    "\n",
    "\n",
    "# create the terms and model\n",
    "terms = np.sum(term_list)\n",
    "print(terms)\n",
    "# gam = LinearGAM(terms=terms).gridsearch(X.values, y.values)\n",
    "# gam.summary()\n"
   ]
  },
  {
   "cell_type": "code",
   "execution_count": null,
   "metadata": {},
   "outputs": [],
   "source": []
  },
  {
   "cell_type": "code",
   "execution_count": 102,
   "metadata": {},
   "outputs": [],
   "source": [
    "from sklearn.externals import joblib"
   ]
  },
  {
   "cell_type": "code",
   "execution_count": 103,
   "metadata": {},
   "outputs": [],
   "source": [
    "filename = 'low_col_gams.sav'\n",
    "gam = joblib.load(filename)\n",
    "y_preds = gam.predict(X)\n"
   ]
  },
  {
   "cell_type": "code",
   "execution_count": 104,
   "metadata": {},
   "outputs": [
    {
     "name": "stdout",
     "output_type": "stream",
     "text": [
      "mean absolute error test:  138176.49551521073\n",
      "r2 predict test:  0.8514537117667731\n"
     ]
    }
   ],
   "source": [
    "from sklearn.model_selection import train_test_split\n",
    "from sklearn.metrics import mean_absolute_error\n",
    "from sklearn.model_selection import cross_validate\n",
    "from sklearn.model_selection import cross_val_score\n",
    "from sklearn.metrics import r2_score\n",
    "from sklearn.metrics import mean_squared_error\n",
    "\n",
    "print(\"mean absolute error test: \" , mean_absolute_error(y_preds, df[target]))\n",
    "print(\"r2 predict test: \" , r2_score(y_preds, df[target]))"
   ]
  },
  {
   "cell_type": "code",
   "execution_count": 105,
   "metadata": {},
   "outputs": [],
   "source": [
    "df['predict'] = y_preds"
   ]
  },
  {
   "cell_type": "code",
   "execution_count": 106,
   "metadata": {},
   "outputs": [],
   "source": [
    "df['predicton_diff'] = df['price'] - df['predict']"
   ]
  },
  {
   "cell_type": "code",
   "execution_count": 111,
   "metadata": {},
   "outputs": [],
   "source": [
    "df2 = df[df['predicton_diff'] < 0].sort_values(by='predicton_diff', ascending=False)"
   ]
  },
  {
   "cell_type": "code",
   "execution_count": 82,
   "metadata": {},
   "outputs": [
    {
     "data": {
      "text/plain": [
       "Unnamed: 0        7.100000e+01\n",
       "zipcode           9.807500e+04\n",
       "price             1.550000e+06\n",
       "bedrooms          5.000000e+00\n",
       "bathrooms         4.000000e+00\n",
       "sqft_living       4.006000e+03\n",
       "yr_built          2.020000e+03\n",
       "lat               4.760035e+01\n",
       "long             -1.219883e+02\n",
       "year              2.019000e+03\n",
       "predict           1.365825e+06\n",
       "predicton_diff    1.841755e+05\n",
       "Name: 71, dtype: float64"
      ]
     },
     "execution_count": 82,
     "metadata": {},
     "output_type": "execute_result"
    }
   ],
   "source": [
    "df.iloc[66]"
   ]
  },
  {
   "cell_type": "code",
   "execution_count": 113,
   "metadata": {},
   "outputs": [],
   "source": [
    "# df2.to_csv('price_diff.csv')"
   ]
  },
  {
   "cell_type": "code",
   "execution_count": null,
   "metadata": {},
   "outputs": [],
   "source": []
  }
 ],
 "metadata": {
  "kernelspec": {
   "display_name": "Python 3",
   "language": "python",
   "name": "python3"
  },
  "language_info": {
   "codemirror_mode": {
    "name": "ipython",
    "version": 3
   },
   "file_extension": ".py",
   "mimetype": "text/x-python",
   "name": "python",
   "nbconvert_exporter": "python",
   "pygments_lexer": "ipython3",
   "version": "3.7.4"
  }
 },
 "nbformat": 4,
 "nbformat_minor": 4
}
