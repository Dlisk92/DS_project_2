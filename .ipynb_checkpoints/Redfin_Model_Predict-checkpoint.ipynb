{
 "cells": [
  {
   "cell_type": "code",
   "execution_count": null,
   "metadata": {},
   "outputs": [],
   "source": []
  },
  {
   "cell_type": "code",
   "execution_count": 1,
   "metadata": {},
   "outputs": [],
   "source": [
    "import matplotlib.pyplot as plt\n",
    "import seaborn as sns; sns.set()\n",
    "%matplotlib inline\n",
    "\n",
    "import numpy as np\n",
    "import pandas as pd\n",
    "import sklearn\n",
    "\n",
    "from sklearn.linear_model import LinearRegression, Lasso, Ridge\n",
    "from sklearn.preprocessing import RobustScaler\n",
    "from sklearn.model_selection import cross_validate, cross_val_predict, cross_val_score\n",
    "from sklearn.pipeline import make_pipeline\n",
    "from sklearn.ensemble import BaggingRegressor\n",
    "from pyearth import Earth\n",
    "\n",
    "import gc; gc.enable()\n",
    "\n",
    "import warnings\n",
    "warnings.filterwarnings(\"ignore\")"
   ]
  },
  {
   "cell_type": "code",
   "execution_count": 2,
   "metadata": {},
   "outputs": [],
   "source": [
    "df = pd.read_csv('sold_homes_model_validation_data.csv')"
   ]
  },
  {
   "cell_type": "code",
   "execution_count": 3,
   "metadata": {},
   "outputs": [
    {
     "data": {
      "text/html": [
       "<div>\n",
       "<style scoped>\n",
       "    .dataframe tbody tr th:only-of-type {\n",
       "        vertical-align: middle;\n",
       "    }\n",
       "\n",
       "    .dataframe tbody tr th {\n",
       "        vertical-align: top;\n",
       "    }\n",
       "\n",
       "    .dataframe thead th {\n",
       "        text-align: right;\n",
       "    }\n",
       "</style>\n",
       "<table border=\"1\" class=\"dataframe\">\n",
       "  <thead>\n",
       "    <tr style=\"text-align: right;\">\n",
       "      <th></th>\n",
       "      <th>CITY</th>\n",
       "      <th>STATE OR PROVINCE</th>\n",
       "      <th>zipcode</th>\n",
       "      <th>price</th>\n",
       "      <th>bedrooms</th>\n",
       "      <th>bathrooms</th>\n",
       "      <th>sqft_living</th>\n",
       "      <th>yr_built</th>\n",
       "      <th>STATUS</th>\n",
       "      <th>lat</th>\n",
       "      <th>long</th>\n",
       "      <th>URL</th>\n",
       "      <th>SOLD DATE</th>\n",
       "      <th>ADDRESS</th>\n",
       "    </tr>\n",
       "  </thead>\n",
       "  <tbody>\n",
       "    <tr>\n",
       "      <td>0</td>\n",
       "      <td>Federal Way</td>\n",
       "      <td>WA</td>\n",
       "      <td>98003</td>\n",
       "      <td>259900</td>\n",
       "      <td>2</td>\n",
       "      <td>1.75</td>\n",
       "      <td>1427</td>\n",
       "      <td>1978</td>\n",
       "      <td>Sold</td>\n",
       "      <td>47.331059</td>\n",
       "      <td>-122.334218</td>\n",
       "      <td>http://www.redfin.com/WA/Federal-Way/30242-1st...</td>\n",
       "      <td>February-21-2019</td>\n",
       "      <td>30242 1st Ave S</td>\n",
       "    </tr>\n",
       "    <tr>\n",
       "      <td>1</td>\n",
       "      <td>Issaquah</td>\n",
       "      <td>WA</td>\n",
       "      <td>98027</td>\n",
       "      <td>505000</td>\n",
       "      <td>2</td>\n",
       "      <td>1.75</td>\n",
       "      <td>1379</td>\n",
       "      <td>2010</td>\n",
       "      <td>Sold</td>\n",
       "      <td>47.559832</td>\n",
       "      <td>-122.092141</td>\n",
       "      <td>http://www.redfin.com/WA/Issaquah/18609-SE-New...</td>\n",
       "      <td>December-11-2019</td>\n",
       "      <td>18609 SE Newport Way #305</td>\n",
       "    </tr>\n",
       "    <tr>\n",
       "      <td>2</td>\n",
       "      <td>Redmond</td>\n",
       "      <td>WA</td>\n",
       "      <td>98052</td>\n",
       "      <td>732000</td>\n",
       "      <td>3</td>\n",
       "      <td>1.75</td>\n",
       "      <td>1710</td>\n",
       "      <td>1950</td>\n",
       "      <td>Sold</td>\n",
       "      <td>47.630877</td>\n",
       "      <td>-122.093475</td>\n",
       "      <td>http://www.redfin.com/WA/Redmond/18441-NE-24th...</td>\n",
       "      <td>March-29-2019</td>\n",
       "      <td>18441 NE 24th St</td>\n",
       "    </tr>\n",
       "    <tr>\n",
       "      <td>3</td>\n",
       "      <td>Federal Way</td>\n",
       "      <td>WA</td>\n",
       "      <td>98023</td>\n",
       "      <td>540000</td>\n",
       "      <td>6</td>\n",
       "      <td>2.75</td>\n",
       "      <td>3087</td>\n",
       "      <td>2014</td>\n",
       "      <td>Sold</td>\n",
       "      <td>47.296318</td>\n",
       "      <td>-122.350300</td>\n",
       "      <td>http://www.redfin.com/WA/Federal-Way/1103-SW-3...</td>\n",
       "      <td>October-23-2019</td>\n",
       "      <td>1103 SW 339th St</td>\n",
       "    </tr>\n",
       "    <tr>\n",
       "      <td>4</td>\n",
       "      <td>Seattle</td>\n",
       "      <td>WA</td>\n",
       "      <td>98199</td>\n",
       "      <td>1275000</td>\n",
       "      <td>4</td>\n",
       "      <td>3.50</td>\n",
       "      <td>3190</td>\n",
       "      <td>2006</td>\n",
       "      <td>Sold</td>\n",
       "      <td>47.648096</td>\n",
       "      <td>-122.385676</td>\n",
       "      <td>http://www.redfin.com/WA/Seattle/3052-23rd-Ave...</td>\n",
       "      <td>June-4-2019</td>\n",
       "      <td>3052 23rd Ave W</td>\n",
       "    </tr>\n",
       "  </tbody>\n",
       "</table>\n",
       "</div>"
      ],
      "text/plain": [
       "          CITY STATE OR PROVINCE  zipcode    price  bedrooms  bathrooms  \\\n",
       "0  Federal Way                WA    98003   259900         2       1.75   \n",
       "1     Issaquah                WA    98027   505000         2       1.75   \n",
       "2      Redmond                WA    98052   732000         3       1.75   \n",
       "3  Federal Way                WA    98023   540000         6       2.75   \n",
       "4      Seattle                WA    98199  1275000         4       3.50   \n",
       "\n",
       "   sqft_living  yr_built STATUS        lat        long  \\\n",
       "0         1427      1978   Sold  47.331059 -122.334218   \n",
       "1         1379      2010   Sold  47.559832 -122.092141   \n",
       "2         1710      1950   Sold  47.630877 -122.093475   \n",
       "3         3087      2014   Sold  47.296318 -122.350300   \n",
       "4         3190      2006   Sold  47.648096 -122.385676   \n",
       "\n",
       "                                                 URL         SOLD DATE  \\\n",
       "0  http://www.redfin.com/WA/Federal-Way/30242-1st...  February-21-2019   \n",
       "1  http://www.redfin.com/WA/Issaquah/18609-SE-New...  December-11-2019   \n",
       "2  http://www.redfin.com/WA/Redmond/18441-NE-24th...     March-29-2019   \n",
       "3  http://www.redfin.com/WA/Federal-Way/1103-SW-3...   October-23-2019   \n",
       "4  http://www.redfin.com/WA/Seattle/3052-23rd-Ave...       June-4-2019   \n",
       "\n",
       "                     ADDRESS  \n",
       "0            30242 1st Ave S  \n",
       "1  18609 SE Newport Way #305  \n",
       "2           18441 NE 24th St  \n",
       "3           1103 SW 339th St  \n",
       "4            3052 23rd Ave W  "
      ]
     },
     "execution_count": 3,
     "metadata": {},
     "output_type": "execute_result"
    }
   ],
   "source": [
    "df.head()"
   ]
  },
  {
   "cell_type": "code",
   "execution_count": 11,
   "metadata": {},
   "outputs": [],
   "source": [
    "df['year'] = 2019"
   ]
  },
  {
   "cell_type": "code",
   "execution_count": 25,
   "metadata": {},
   "outputs": [],
   "source": [
    "df = df[(df['bedrooms'] <= 5) & (df['bedrooms'] >= 1)]"
   ]
  },
  {
   "cell_type": "code",
   "execution_count": 33,
   "metadata": {},
   "outputs": [],
   "source": [
    "df = df[df['zipcode'] <= 98199.0]"
   ]
  },
  {
   "cell_type": "code",
   "execution_count": 35,
   "metadata": {},
   "outputs": [],
   "source": [
    "target = 'price'\n"
   ]
  },
  {
   "cell_type": "code",
   "execution_count": 36,
   "metadata": {},
   "outputs": [],
   "source": [
    "real_cols = ['sqft_living', 'lat', 'long', 'year']\n",
    "cat_cols = ['bedrooms', 'bathrooms', 'zipcode']\n",
    "used_cols =  real_cols + cat_cols"
   ]
  },
  {
   "cell_type": "code",
   "execution_count": 37,
   "metadata": {},
   "outputs": [],
   "source": [
    "X, y = df[used_cols], df[target]"
   ]
  },
  {
   "cell_type": "code",
   "execution_count": 15,
   "metadata": {},
   "outputs": [
    {
     "name": "stdout",
     "output_type": "stream",
     "text": [
      "s(0) + s(1) + s(2) + s(3) + te(1, 2) + te(0, 1, 2) + te(4, 5) + te(1, 2, 6) + f(4) + f(5) + f(6)\n"
     ]
    }
   ],
   "source": [
    "from pygam.terms import s as spline\n",
    "from pygam.terms import f as factor\n",
    "from pygam.terms import te as tensor\n",
    "\n",
    "\n",
    "# DEFINE TERMS:\n",
    "#   * splines - for continuous\n",
    "#   * factors - for categorical/discrete \n",
    "#        (assumption: label encoded w/ 0 to level_size-1)\n",
    "#   * tensors - for any interactions\n",
    "\n",
    "# create the term list\n",
    "term_list = []\n",
    "for i, col in enumerate(used_cols):\n",
    "    if col in real_cols:\n",
    "        term_list.append(spline(i))\n",
    "\n",
    "# add the x1 and x2 interaction term\n",
    "term_list.append(tensor(1, 2))\n",
    "term_list.append(tensor(0, 1, 2))\n",
    "term_list.append(tensor(4, 5))\n",
    "term_list.append(tensor(1, 2, 6))\n",
    "\n",
    "\n",
    "\n",
    "# term_list.append(tensor(7, 8, 10))\n",
    "# term_list.append(tensor(0, 4))\n",
    "# term_list.append(tensor(0, 1, 2, 3))\n",
    "\n",
    "\n",
    "\n",
    "\n",
    "# factors\n",
    "for i, col in enumerate(used_cols):\n",
    "    if col in cat_cols:\n",
    "        term_list.append(factor(i))\n",
    "\n",
    "\n",
    "# create the terms and model\n",
    "terms = np.sum(term_list)\n",
    "print(terms)\n",
    "# gam = LinearGAM(terms=terms).gridsearch(X.values, y.values)\n",
    "# gam.summary()\n"
   ]
  },
  {
   "cell_type": "code",
   "execution_count": null,
   "metadata": {},
   "outputs": [],
   "source": []
  },
  {
   "cell_type": "code",
   "execution_count": 16,
   "metadata": {},
   "outputs": [],
   "source": [
    "from sklearn.externals import joblib"
   ]
  },
  {
   "cell_type": "code",
   "execution_count": 38,
   "metadata": {},
   "outputs": [],
   "source": [
    "filename = 'low_col_gams.sav'\n",
    "gam = joblib.load(filename)\n",
    "y_preds = gam.predict(X)\n"
   ]
  },
  {
   "cell_type": "code",
   "execution_count": 41,
   "metadata": {},
   "outputs": [
    {
     "name": "stdout",
     "output_type": "stream",
     "text": [
      "mean absolute error test:  98034.61878954165\n",
      "r2 predict test:  0.7670243231921021\n"
     ]
    }
   ],
   "source": [
    "from sklearn.model_selection import train_test_split\n",
    "from sklearn.metrics import mean_absolute_error\n",
    "from sklearn.model_selection import cross_validate\n",
    "from sklearn.model_selection import cross_val_score\n",
    "from sklearn.metrics import r2_score\n",
    "from sklearn.metrics import mean_squared_error\n",
    "\n",
    "print(\"mean absolute error test: \" , mean_absolute_error(y_preds, df[target]))\n",
    "print(\"r2 predict test: \" , r2_score(y_preds, df[target]))"
   ]
  },
  {
   "cell_type": "code",
   "execution_count": null,
   "metadata": {},
   "outputs": [],
   "source": []
  }
 ],
 "metadata": {
  "kernelspec": {
   "display_name": "Python 3",
   "language": "python",
   "name": "python3"
  },
  "language_info": {
   "codemirror_mode": {
    "name": "ipython",
    "version": 3
   },
   "file_extension": ".py",
   "mimetype": "text/x-python",
   "name": "python",
   "nbconvert_exporter": "python",
   "pygments_lexer": "ipython3",
   "version": "3.6.9"
  }
 },
 "nbformat": 4,
 "nbformat_minor": 4
}
