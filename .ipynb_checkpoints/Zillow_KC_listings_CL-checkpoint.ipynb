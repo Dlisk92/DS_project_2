{
 "cells": [
  {
   "cell_type": "code",
   "execution_count": 5,
   "metadata": {},
   "outputs": [
    {
     "name": "stderr",
     "output_type": "stream",
     "text": [
      "/opt/anaconda3/envs/learn-env/lib/python3.6/site-packages/ipykernel_launcher.py:8: DeprecationWarning: use options instead of chrome_options\n",
      "  \n"
     ]
    }
   ],
   "source": [
    "from selenium import webdriver\n",
    "import sys\n",
    "\n",
    "options = webdriver.ChromeOptions()\n",
    "options.add_argument('--ignore-certificate-errors')\n",
    "options.add_argument('--incognito')\n",
    "options.add_argument('--headless')\n",
    "driver = webdriver.Chrome(\"/Users/carsonlloyd/Downloads/chromedriver\", chrome_options=options)"
   ]
  },
  {
   "cell_type": "code",
   "execution_count": 6,
   "metadata": {},
   "outputs": [],
   "source": [
    "driver.get(\"https://www.redfin.com/county/118/WA/King-County\")\n",
    "page_source = driver.page_source"
   ]
  },
  {
   "cell_type": "code",
   "execution_count": 7,
   "metadata": {},
   "outputs": [
    {
     "name": "stderr",
     "output_type": "stream",
     "text": [
      "/opt/anaconda3/envs/learn-env/lib/python3.6/site-packages/ipykernel_launcher.py:7: DeprecationWarning: use options instead of chrome_options\n",
      "  import sys\n"
     ]
    }
   ],
   "source": [
    "from selenium import webdriver\n",
    "from selenium.webdriver.support.ui import WebDriverWait\n",
    "from selenium.webdriver.support import expected_conditions as EC\n",
    "from selenium.webdriver.common.by import By\n",
    "\n",
    "url = \"https://www.redfin.com/county/118/WA/King-County\"\n",
    "driver = webdriver.Chrome(\"/Users/carsonlloyd/Downloads/chromedriver\", chrome_options=options)\n",
    "driver.get(url)"
   ]
  },
  {
   "cell_type": "code",
   "execution_count": 9,
   "metadata": {},
   "outputs": [],
   "source": [
    "from bs4 import BeautifulSoup\n",
    "\n",
    "soup = BeautifulSoup(page_source)\n",
    "#table = soup.findAll('div', class_='scrollContainer')\n",
    "table = soup.find_all('body')"
   ]
  },
  {
   "cell_type": "code",
   "execution_count": 11,
   "metadata": {},
   "outputs": [],
   "source": [
    "#print(soup.prettify())"
   ]
  },
  {
   "cell_type": "code",
   "execution_count": 46,
   "metadata": {
    "scrolled": true
   },
   "outputs": [
    {
     "data": {
      "text/plain": [
       "'[{\"@context\":\"http://schema.org\",\"name\":\"2115 57th St SE, Auburn, WA 98092\",\"url\":\"/WA/Auburn/2115-57th-St-SE-98092/home/28582319\",\"address\":{\"@type\":\"PostalAddress\",\"streetAddress\":\"2115 57th St SE\",\"addressLocality\":\"Auburn\",\"addressRegion\":\"WA\",\"postalCode\":\"98092\",\"addressCountry\":\"US\"},\"numberOfRooms\":\"3\",\"@type\":\"SingleFamilyResidence\"},{\"@context\":\"http://schema.org\",\"@type\":\"Product\",\"name\":\"2115 57th St SE, Auburn, WA 98092\",\"offers\":{\"@type\":\"Offer\",\"price\":\"474950\",\"priceCurrency\":\"USD\"},\"url\":\"/WA/Auburn/2115-57th-St-SE-98092/home/28582319\"}]'"
      ]
     },
     "execution_count": 46,
     "metadata": {},
     "output_type": "execute_result"
    }
   ],
   "source": [
    "ex = soup.find('body').findAll('div')[0].findAll('script')[13].text\n",
    "ex"
   ]
  },
  {
   "cell_type": "code",
   "execution_count": 19,
   "metadata": {},
   "outputs": [
    {
     "data": {
      "text/plain": [
       "'98092'"
      ]
     },
     "execution_count": 19,
     "metadata": {},
     "output_type": "execute_result"
    }
   ],
   "source": [
    "_dict = ast.literal_eval(ex)\n",
    "_dict[0]['address']['postalCode']"
   ]
  },
  {
   "cell_type": "code",
   "execution_count": 20,
   "metadata": {},
   "outputs": [
    {
     "data": {
      "text/plain": [
       "'474950'"
      ]
     },
     "execution_count": 20,
     "metadata": {},
     "output_type": "execute_result"
    }
   ],
   "source": [
    "_dict = ast.literal_eval(ex)\n",
    "_dict[1]['offers']['price']"
   ]
  },
  {
   "cell_type": "code",
   "execution_count": 22,
   "metadata": {},
   "outputs": [
    {
     "data": {
      "text/plain": [
       "{'@context': 'http://schema.org',\n",
       " '@type': 'Event',\n",
       " 'startDate': '2020-01-04T19:00:00.000Z',\n",
       " 'endDate': '2020-01-04T21:00:00.000Z',\n",
       " 'name': 'Open House - 11:00 - 1:00 PM',\n",
       " 'url': 'https://www.redfin.com/WA/Seattle/114-16th-Ave-98122/unit-A/home/113703717',\n",
       " 'description': 'Check out an open house at 114 16th Ave Unit A.',\n",
       " 'offers': {'@type': 'offer',\n",
       "  'price': 785000,\n",
       "  'priceCurrency': 'USD',\n",
       "  'availability': 'http://schema.org/InStock',\n",
       "  'URL': 'https://www.redfin.com/WA/Seattle/114-16th-Ave-98122/unit-A/home/113703717',\n",
       "  'validFrom': '2020-01-04T19:00:00.000Z'},\n",
       " 'performer': {'@type': 'Thing', 'name': 'Jessie Culbert Boucher'},\n",
       " 'location': {'@type': 'Place',\n",
       "  'name': '114 16th Ave Unit A',\n",
       "  'geo': {'@type': 'GeoCoordinates',\n",
       "   'latitude': 47.6022096,\n",
       "   'longitude': -122.3115249},\n",
       "  'address': {'@type': 'PostalAddress',\n",
       "   'streetAddress': '114 16th Ave Unit A',\n",
       "   'addressLocality': 'Seattle',\n",
       "   'postalCode': '98122',\n",
       "   'addressRegion': 'WA'}}}"
      ]
     },
     "execution_count": 22,
     "metadata": {},
     "output_type": "execute_result"
    }
   ],
   "source": [
    "import ast\n",
    "\n",
    "_dict = ast.literal_eval(ex)\n",
    "_dict"
   ]
  },
  {
   "cell_type": "code",
   "execution_count": 23,
   "metadata": {},
   "outputs": [
    {
     "data": {
      "text/plain": [
       "785000"
      ]
     },
     "execution_count": 23,
     "metadata": {},
     "output_type": "execute_result"
    }
   ],
   "source": [
    "_dict['offers']['price']"
   ]
  },
  {
   "cell_type": "code",
   "execution_count": 24,
   "metadata": {},
   "outputs": [
    {
     "data": {
      "text/plain": [
       "'98122'"
      ]
     },
     "execution_count": 24,
     "metadata": {},
     "output_type": "execute_result"
    }
   ],
   "source": [
    "_dict['location']['address']['postalCode']"
   ]
  },
  {
   "cell_type": "code",
   "execution_count": 25,
   "metadata": {},
   "outputs": [
    {
     "data": {
      "text/plain": [
       "-122.3115249"
      ]
     },
     "execution_count": 25,
     "metadata": {},
     "output_type": "execute_result"
    }
   ],
   "source": [
    "_dict['location']['geo']['latitude']\n",
    "_dict['location']['geo']['longitude']"
   ]
  },
  {
   "cell_type": "code",
   "execution_count": 26,
   "metadata": {},
   "outputs": [],
   "source": [
    "t = 13\n",
    "p = list(range(19))\n",
    "price = []\n",
    "zipcode = []\n",
    "lat = []\n",
    "long = []\n",
    "for v in p:\n",
    "    try:\n",
    "        ex = soup.find('body').findAll('div')[0].findAll('script')[t].text\n",
    "        _dict = ast.literal_eval(ex)\n",
    "        price.append(_dict['offers']['price'])\n",
    "        zipcode.append(_dict['location']['address']['postalCode'])\n",
    "        lat.append(_dict['location']['geo']['latitude'])\n",
    "        long.append(_dict['location']['geo']['longitude'])\n",
    "        t = t + 2\n",
    "    except:\n",
    "        lat.append(None)\n",
    "        long.append(None)\n",
    "        price.append(_dict[1]['offers']['price'])\n",
    "        zipcode.append(_dict[0]['address']['postalCode'])\n",
    "        t = t + 2\n",
    "        "
   ]
  },
  {
   "cell_type": "code",
   "execution_count": 27,
   "metadata": {},
   "outputs": [
    {
     "data": {
      "text/plain": [
       "['474950',\n",
       " 785000,\n",
       " 1136000,\n",
       " 710000,\n",
       " 642500,\n",
       " 515000,\n",
       " '574950',\n",
       " '1150000',\n",
       " '437000',\n",
       " '579990',\n",
       " '530000',\n",
       " '599950',\n",
       " '625000',\n",
       " '617500',\n",
       " '425000',\n",
       " '450000',\n",
       " '385000',\n",
       " '385000',\n",
       " '385000']"
      ]
     },
     "execution_count": 27,
     "metadata": {},
     "output_type": "execute_result"
    }
   ],
   "source": [
    "price"
   ]
  },
  {
   "cell_type": "code",
   "execution_count": 28,
   "metadata": {},
   "outputs": [
    {
     "data": {
      "text/plain": [
       "[None,\n",
       " 47.6022096,\n",
       " 47.6405322,\n",
       " 47.776688,\n",
       " 47.5887033,\n",
       " 47.4289301,\n",
       " None,\n",
       " None,\n",
       " None,\n",
       " None,\n",
       " None,\n",
       " None,\n",
       " None,\n",
       " None,\n",
       " None,\n",
       " None,\n",
       " None,\n",
       " None,\n",
       " None]"
      ]
     },
     "execution_count": 28,
     "metadata": {},
     "output_type": "execute_result"
    }
   ],
   "source": [
    "lat"
   ]
  },
  {
   "cell_type": "code",
   "execution_count": 29,
   "metadata": {},
   "outputs": [
    {
     "data": {
      "text/plain": [
       "['98092',\n",
       " '98122',\n",
       " '98119',\n",
       " '98028',\n",
       " '98144',\n",
       " '98058',\n",
       " '98031',\n",
       " '98053',\n",
       " '98109',\n",
       " '98092',\n",
       " '98007',\n",
       " '98030',\n",
       " '98121',\n",
       " '98058',\n",
       " '98103',\n",
       " '98006',\n",
       " '98133',\n",
       " '98133',\n",
       " '98133']"
      ]
     },
     "execution_count": 29,
     "metadata": {},
     "output_type": "execute_result"
    }
   ],
   "source": [
    "zipcode"
   ]
  },
  {
   "cell_type": "code",
   "execution_count": 165,
   "metadata": {},
   "outputs": [
    {
     "data": {
      "text/plain": [
       "<a href=\"/WA/Auburn/2115-57th-St-SE-98092/home/28582319\" target=\"_blank\" title=\"2115 57th St SE, Auburn, WA 98092\"><div class=\"bottomV2\"><span class=\"homecardV2Price\" data-rf-test-name=\"homecard-price\">$474,950</span><div class=\"favoriteButtonV2\"><div aria-checked=\"false\" aria-label=\"favorite button\" class=\"FavoriteExtension favoriteButtonV2 clickable fav-off\" data-rf-test-id=\"favoriteExtension\" role=\"checkbox\"><svg class=\"SvgIcon favorite-actionable clickable favorite-icon\"><svg viewbox=\"0 0 36 36\"><path class=\"favorite-actionable-outline outline\" d=\"M26.685 3.152c-2.787 0-5.904 1.183-8.538 4.327-2.635-3.145-5.751-4.327-8.54-4.327-2.046 0-3.915.637-5.285 1.605-3.238 2.286-4.749 7.092-2.886 11.662 2.413 5.919 14.655 15.018 16.482 16.352.071.051.15.077.229.077a.386.386 0 0 0 .228-.077c1.842-1.339 14.237-10.514 16.482-16.352 1.771-4.604.352-9.376-2.884-11.662-1.373-.969-3.243-1.605-5.288-1.605zm0 1.5c1.613 0 3.225.485 4.423 1.33 2.805 1.982 3.793 6.145 2.349 9.898-1.644 4.276-10.094 11.334-15.309 15.196-5.153-3.832-13.549-10.871-15.323-15.223-1.705-4.182-.102-8.131 2.363-9.871 1.196-.845 2.807-1.33 4.419-1.33 1.923 0 4.765.658 7.39 3.79l1.15 1.372 1.15-1.372c2.624-3.132 5.466-3.79 7.388-3.79\"></path><path d=\"M26.685 4.652c1.613 0 3.225.485 4.423 1.33 2.805 1.982 3.793 6.145 2.349 9.898-1.644 4.276-10.094 11.334-15.309 15.196-5.153-3.832-13.549-10.871-15.323-15.223-1.705-4.182-.102-8.131 2.363-9.871 1.196-.845 2.807-1.33 4.419-1.33 1.923 0 4.765.658 7.39 3.79l1.15 1.372 1.15-1.372c2.624-3.132 5.466-3.79 7.388-3.79\"></path></svg></svg></div></div><div class=\"HomeStatsV2 font-size-small\"><div class=\"stats\">3 Beds</div><div class=\"stats\">2.5 Baths</div><div class=\"stats\">2,242 Sq. Ft.</div></div><div class=\"homeAddressV2\"><div class=\"addressDisplay font-size-smaller\" data-rf-test-id=\"abp-homeinfo-homeaddress\"><span data-rf-test-id=\"abp-streetLine\">2115 57th St SE, Auburn, WA 98092</span></div></div><div class=\"brokerageDisclaimerV2\"><div class=\"disclaimerV2\" title=\"Listing provided by NWMLS\">Listing provided by NWMLS</div></div><script type=\"application/ld+json\">[{\"@context\":\"http://schema.org\",\"name\":\"2115 57th St SE, Auburn, WA 98092\",\"url\":\"/WA/Auburn/2115-57th-St-SE-98092/home/28582319\",\"address\":{\"@type\":\"PostalAddress\",\"streetAddress\":\"2115 57th St SE\",\"addressLocality\":\"Auburn\",\"addressRegion\":\"WA\",\"postalCode\":\"98092\",\"addressCountry\":\"US\"},\"numberOfRooms\":\"3\",\"@type\":\"SingleFamilyResidence\"},{\"@context\":\"http://schema.org\",\"@type\":\"Product\",\"name\":\"2115 57th St SE, Auburn, WA 98092\",\"offers\":{\"@type\":\"Offer\",\"price\":\"474950\",\"priceCurrency\":\"USD\"},\"url\":\"/WA/Auburn/2115-57th-St-SE-98092/home/28582319\"}]</script></div></a>"
      ]
     },
     "execution_count": 165,
     "metadata": {},
     "output_type": "execute_result"
    }
   ],
   "source": [
    "soup.find('body').findAll('div')[0].findAll('a')[24]"
   ]
  },
  {
   "cell_type": "code",
   "execution_count": 166,
   "metadata": {},
   "outputs": [
    {
     "data": {
      "text/plain": [
       "3.0"
      ]
     },
     "execution_count": 166,
     "metadata": {},
     "output_type": "execute_result"
    }
   ],
   "source": [
    "float(soup.find('body').findAll('div')[0].findAll('a')[24].findAll('div')[4].contents[0].replace(' Sq. Ft.', '').replace(',', '').replace(' Beds', '').replace(' Baths', ''))"
   ]
  },
  {
   "cell_type": "code",
   "execution_count": 196,
   "metadata": {},
   "outputs": [],
   "source": [
    "x = 24\n",
    "bbs = [4,5,6]\n",
    "bedrooms = []\n",
    "bathrooms = []\n",
    "sqft = []\n",
    "p = list(range(19))\n",
    "for v in p:\n",
    "    bedrooms.append(float(soup.find('body').findAll('div')[0].findAll('a')[x].findAll('div')[4].contents[0].replace(' Sq. Ft.', '').replace(',', '').replace(' Beds', '').replace(' Baths', '').replace(' Bed','').replace(' Bath','')))\n",
    "    bathrooms.append(float(soup.find('body').findAll('div')[0].findAll('a')[x].findAll('div')[5].contents[0].replace(' Sq. Ft.', '').replace(',', '').replace(' Beds', '').replace(' Baths', '').replace(' Bed','').replace(' Bath','')))\n",
    "    sqft.append(float(soup.find('body').findAll('div')[0].findAll('a')[x].findAll('div')[6].contents[0].replace(' Sq. Ft.', '').replace(',', '').replace(' Beds', '').replace(' Baths', '').replace(' Bed','').replace(' Bath','')))\n",
    "    x = x + 3"
   ]
  },
  {
   "cell_type": "code",
   "execution_count": 30,
   "metadata": {},
   "outputs": [],
   "source": [
    "import pandas as pd"
   ]
  },
  {
   "cell_type": "code",
   "execution_count": 185,
   "metadata": {},
   "outputs": [],
   "source": [
    "zillowdf = pd.DataFrame()"
   ]
  },
  {
   "cell_type": "code",
   "execution_count": 186,
   "metadata": {},
   "outputs": [],
   "source": [
    "zillowdf['bedrooms'] = bedrooms"
   ]
  },
  {
   "cell_type": "code",
   "execution_count": 187,
   "metadata": {},
   "outputs": [],
   "source": [
    "zillowdf['bathrooms'] = bathrooms"
   ]
  },
  {
   "cell_type": "code",
   "execution_count": 188,
   "metadata": {},
   "outputs": [],
   "source": [
    "zillowdf['sqft_living'] = sqft"
   ]
  },
  {
   "cell_type": "code",
   "execution_count": 189,
   "metadata": {},
   "outputs": [],
   "source": [
    "zillowdf['price'] = price\n",
    "zillowdf['zipcode'] = zipcode\n",
    "zillowdf['lat'] = lat\n",
    "zillowdf['long'] = long"
   ]
  },
  {
   "cell_type": "code",
   "execution_count": 190,
   "metadata": {},
   "outputs": [
    {
     "data": {
      "text/html": [
       "<div>\n",
       "<style scoped>\n",
       "    .dataframe tbody tr th:only-of-type {\n",
       "        vertical-align: middle;\n",
       "    }\n",
       "\n",
       "    .dataframe tbody tr th {\n",
       "        vertical-align: top;\n",
       "    }\n",
       "\n",
       "    .dataframe thead th {\n",
       "        text-align: right;\n",
       "    }\n",
       "</style>\n",
       "<table border=\"1\" class=\"dataframe\">\n",
       "  <thead>\n",
       "    <tr style=\"text-align: right;\">\n",
       "      <th></th>\n",
       "      <th>bedrooms</th>\n",
       "      <th>bathrooms</th>\n",
       "      <th>sqft_living</th>\n",
       "      <th>price</th>\n",
       "      <th>zipcode</th>\n",
       "      <th>lat</th>\n",
       "      <th>long</th>\n",
       "    </tr>\n",
       "  </thead>\n",
       "  <tbody>\n",
       "    <tr>\n",
       "      <td>0</td>\n",
       "      <td>3.0</td>\n",
       "      <td>2.50</td>\n",
       "      <td>2242.0</td>\n",
       "      <td>474950</td>\n",
       "      <td>98092</td>\n",
       "      <td>NaN</td>\n",
       "      <td>NaN</td>\n",
       "    </tr>\n",
       "    <tr>\n",
       "      <td>1</td>\n",
       "      <td>3.0</td>\n",
       "      <td>1.75</td>\n",
       "      <td>1360.0</td>\n",
       "      <td>785000</td>\n",
       "      <td>98122</td>\n",
       "      <td>47.602210</td>\n",
       "      <td>-122.311525</td>\n",
       "    </tr>\n",
       "    <tr>\n",
       "      <td>2</td>\n",
       "      <td>5.0</td>\n",
       "      <td>2.00</td>\n",
       "      <td>2480.0</td>\n",
       "      <td>1136000</td>\n",
       "      <td>98119</td>\n",
       "      <td>47.640532</td>\n",
       "      <td>-122.366597</td>\n",
       "    </tr>\n",
       "    <tr>\n",
       "      <td>3</td>\n",
       "      <td>4.0</td>\n",
       "      <td>2.50</td>\n",
       "      <td>2210.0</td>\n",
       "      <td>710000</td>\n",
       "      <td>98028</td>\n",
       "      <td>47.776688</td>\n",
       "      <td>-122.239202</td>\n",
       "    </tr>\n",
       "    <tr>\n",
       "      <td>4</td>\n",
       "      <td>3.0</td>\n",
       "      <td>1.75</td>\n",
       "      <td>1710.0</td>\n",
       "      <td>642500</td>\n",
       "      <td>98144</td>\n",
       "      <td>47.588703</td>\n",
       "      <td>-122.310853</td>\n",
       "    </tr>\n",
       "    <tr>\n",
       "      <td>5</td>\n",
       "      <td>3.0</td>\n",
       "      <td>2.75</td>\n",
       "      <td>2210.0</td>\n",
       "      <td>515000</td>\n",
       "      <td>98058</td>\n",
       "      <td>47.428930</td>\n",
       "      <td>-122.162640</td>\n",
       "    </tr>\n",
       "    <tr>\n",
       "      <td>6</td>\n",
       "      <td>5.0</td>\n",
       "      <td>2.50</td>\n",
       "      <td>2560.0</td>\n",
       "      <td>574950</td>\n",
       "      <td>98031</td>\n",
       "      <td>NaN</td>\n",
       "      <td>NaN</td>\n",
       "    </tr>\n",
       "    <tr>\n",
       "      <td>7</td>\n",
       "      <td>4.0</td>\n",
       "      <td>2.50</td>\n",
       "      <td>3044.0</td>\n",
       "      <td>1150000</td>\n",
       "      <td>98053</td>\n",
       "      <td>NaN</td>\n",
       "      <td>NaN</td>\n",
       "    </tr>\n",
       "    <tr>\n",
       "      <td>8</td>\n",
       "      <td>1.0</td>\n",
       "      <td>1.00</td>\n",
       "      <td>716.0</td>\n",
       "      <td>437000</td>\n",
       "      <td>98109</td>\n",
       "      <td>NaN</td>\n",
       "      <td>NaN</td>\n",
       "    </tr>\n",
       "    <tr>\n",
       "      <td>9</td>\n",
       "      <td>4.0</td>\n",
       "      <td>2.50</td>\n",
       "      <td>2876.0</td>\n",
       "      <td>579990</td>\n",
       "      <td>98092</td>\n",
       "      <td>NaN</td>\n",
       "      <td>NaN</td>\n",
       "    </tr>\n",
       "    <tr>\n",
       "      <td>10</td>\n",
       "      <td>3.0</td>\n",
       "      <td>2.50</td>\n",
       "      <td>1430.0</td>\n",
       "      <td>530000</td>\n",
       "      <td>98007</td>\n",
       "      <td>NaN</td>\n",
       "      <td>NaN</td>\n",
       "    </tr>\n",
       "    <tr>\n",
       "      <td>11</td>\n",
       "      <td>4.0</td>\n",
       "      <td>2.50</td>\n",
       "      <td>2530.0</td>\n",
       "      <td>599950</td>\n",
       "      <td>98030</td>\n",
       "      <td>NaN</td>\n",
       "      <td>NaN</td>\n",
       "    </tr>\n",
       "    <tr>\n",
       "      <td>12</td>\n",
       "      <td>2.0</td>\n",
       "      <td>1.75</td>\n",
       "      <td>885.0</td>\n",
       "      <td>625000</td>\n",
       "      <td>98121</td>\n",
       "      <td>NaN</td>\n",
       "      <td>NaN</td>\n",
       "    </tr>\n",
       "    <tr>\n",
       "      <td>13</td>\n",
       "      <td>4.0</td>\n",
       "      <td>2.50</td>\n",
       "      <td>2430.0</td>\n",
       "      <td>617500</td>\n",
       "      <td>98058</td>\n",
       "      <td>NaN</td>\n",
       "      <td>NaN</td>\n",
       "    </tr>\n",
       "    <tr>\n",
       "      <td>14</td>\n",
       "      <td>2.0</td>\n",
       "      <td>1.00</td>\n",
       "      <td>695.0</td>\n",
       "      <td>425000</td>\n",
       "      <td>98103</td>\n",
       "      <td>NaN</td>\n",
       "      <td>NaN</td>\n",
       "    </tr>\n",
       "    <tr>\n",
       "      <td>15</td>\n",
       "      <td>2.0</td>\n",
       "      <td>2.50</td>\n",
       "      <td>1360.0</td>\n",
       "      <td>450000</td>\n",
       "      <td>98006</td>\n",
       "      <td>NaN</td>\n",
       "      <td>NaN</td>\n",
       "    </tr>\n",
       "    <tr>\n",
       "      <td>16</td>\n",
       "      <td>2.0</td>\n",
       "      <td>1.75</td>\n",
       "      <td>1114.0</td>\n",
       "      <td>385000</td>\n",
       "      <td>98133</td>\n",
       "      <td>NaN</td>\n",
       "      <td>NaN</td>\n",
       "    </tr>\n",
       "    <tr>\n",
       "      <td>17</td>\n",
       "      <td>2.0</td>\n",
       "      <td>1.75</td>\n",
       "      <td>1128.0</td>\n",
       "      <td>385000</td>\n",
       "      <td>98133</td>\n",
       "      <td>NaN</td>\n",
       "      <td>NaN</td>\n",
       "    </tr>\n",
       "    <tr>\n",
       "      <td>18</td>\n",
       "      <td>2.0</td>\n",
       "      <td>3.00</td>\n",
       "      <td>1221.0</td>\n",
       "      <td>385000</td>\n",
       "      <td>98133</td>\n",
       "      <td>NaN</td>\n",
       "      <td>NaN</td>\n",
       "    </tr>\n",
       "  </tbody>\n",
       "</table>\n",
       "</div>"
      ],
      "text/plain": [
       "    bedrooms  bathrooms  sqft_living    price zipcode        lat        long\n",
       "0        3.0       2.50       2242.0   474950   98092        NaN         NaN\n",
       "1        3.0       1.75       1360.0   785000   98122  47.602210 -122.311525\n",
       "2        5.0       2.00       2480.0  1136000   98119  47.640532 -122.366597\n",
       "3        4.0       2.50       2210.0   710000   98028  47.776688 -122.239202\n",
       "4        3.0       1.75       1710.0   642500   98144  47.588703 -122.310853\n",
       "5        3.0       2.75       2210.0   515000   98058  47.428930 -122.162640\n",
       "6        5.0       2.50       2560.0   574950   98031        NaN         NaN\n",
       "7        4.0       2.50       3044.0  1150000   98053        NaN         NaN\n",
       "8        1.0       1.00        716.0   437000   98109        NaN         NaN\n",
       "9        4.0       2.50       2876.0   579990   98092        NaN         NaN\n",
       "10       3.0       2.50       1430.0   530000   98007        NaN         NaN\n",
       "11       4.0       2.50       2530.0   599950   98030        NaN         NaN\n",
       "12       2.0       1.75        885.0   625000   98121        NaN         NaN\n",
       "13       4.0       2.50       2430.0   617500   98058        NaN         NaN\n",
       "14       2.0       1.00        695.0   425000   98103        NaN         NaN\n",
       "15       2.0       2.50       1360.0   450000   98006        NaN         NaN\n",
       "16       2.0       1.75       1114.0   385000   98133        NaN         NaN\n",
       "17       2.0       1.75       1128.0   385000   98133        NaN         NaN\n",
       "18       2.0       3.00       1221.0   385000   98133        NaN         NaN"
      ]
     },
     "execution_count": 190,
     "metadata": {},
     "output_type": "execute_result"
    }
   ],
   "source": [
    "zillowdf"
   ]
  },
  {
   "cell_type": "code",
   "execution_count": 314,
   "metadata": {},
   "outputs": [],
   "source": [
    "zillowdf.to_csv(path_or_buf='~/Documents/Zillow_KC_listings.csv')"
   ]
  },
  {
   "cell_type": "code",
   "execution_count": 216,
   "metadata": {},
   "outputs": [],
   "source": [
    "m = list(range(1))\n",
    "x = 24\n",
    "t = 13\n",
    "b = 1\n",
    "hp = \"https://www.redfin.com/county/118/WA/King-County\"\n",
    "for v in m:\n",
    "    driver.get(hp)\n",
    "    page_source = driver.page_source\n",
    "    soup = BeautifulSoup(page_source)\n",
    "    table = soup.find_all('body')\n",
    "    if v == 0:\n",
    "        hp = hp + '/page-' + str(b)\n",
    "    b = b + 1\n",
    "    for h in p:\n",
    "        bedrooms.append(float(soup.find('body').findAll('div')[0].findAll('a')[x].findAll('div')[4].contents[0].replace(' Sq. Ft.', '').replace(',', '').replace(' Beds', '').replace(' Baths', '').replace(' Bed','').replace(' Bath','')))\n",
    "        bathrooms.append(float(soup.find('body').findAll('div')[0].findAll('a')[x].findAll('div')[5].contents[0].replace(' Sq. Ft.', '').replace(',', '').replace(' Beds', '').replace(' Baths', '').replace(' Bed','').replace(' Bath','')))\n",
    "        sqft.append(float(soup.find('body').findAll('div')[0].findAll('a')[x].findAll('div')[6].contents[0].replace(' Sq. Ft.', '').replace(',', '').replace(' Beds', '').replace(' Baths', '').replace(' Bed','').replace(' Bath','')))\n",
    "        x = x + 3\n",
    "for v in m:\n",
    "    driver.get(hp)\n",
    "    page_source = driver.page_source\n",
    "    soup = BeautifulSoup(page_source)\n",
    "    table = soup.find_all('body')\n",
    "    hp = hp + '/page-' + str(b)\n",
    "    b = b + 1\n",
    "    for h in p:\n",
    "        try:\n",
    "            ex = soup.find('body').findAll('div')[0].findAll('script')[t].text\n",
    "            _dict = ast.literal_eval(ex)\n",
    "            price.append(_dict['offers']['price'])\n",
    "            zipcode.append(_dict['location']['address']['postalCode'])\n",
    "            lat.append(_dict['location']['geo']['latitude'])\n",
    "            long.append(_dict['location']['geo']['longitude'])\n",
    "            t = t + 2\n",
    "        except:\n",
    "            lat.append(None)\n",
    "            long.append(None)\n",
    "            price.append(_dict[1]['offers']['price'])\n",
    "            zipcode.append(_dict[0]['address']['postalCode'])\n",
    "            t = t + 2\n",
    "        "
   ]
  },
  {
   "cell_type": "code",
   "execution_count": 40,
   "metadata": {},
   "outputs": [],
   "source": [
    "rfdf = pd.read_csv(\"redfin_2020-01-03-09-02-21.csv\")"
   ]
  },
  {
   "cell_type": "code",
   "execution_count": 33,
   "metadata": {},
   "outputs": [
    {
     "data": {
      "text/plain": [
       "Index(['SALE TYPE', 'SOLD DATE', 'PROPERTY TYPE', 'ADDRESS', 'CITY',\n",
       "       'STATE OR PROVINCE', 'ZIP OR POSTAL CODE', 'PRICE', 'BEDS', 'BATHS',\n",
       "       'LOCATION', 'SQUARE FEET', 'LOT SIZE', 'YEAR BUILT', 'DAYS ON MARKET',\n",
       "       '$/SQUARE FEET', 'HOA/MONTH', 'STATUS', 'NEXT OPEN HOUSE START TIME',\n",
       "       'NEXT OPEN HOUSE END TIME',\n",
       "       'URL (SEE http://www.redfin.com/buy-a-home/comparative-market-analysis FOR INFO ON PRICING)',\n",
       "       'SOURCE', 'MLS#', 'FAVORITE', 'INTERESTED', 'LATITUDE', 'LONGITUDE'],\n",
       "      dtype='object')"
      ]
     },
     "execution_count": 33,
     "metadata": {},
     "output_type": "execute_result"
    }
   ],
   "source": [
    "rfdf.columns"
   ]
  },
  {
   "cell_type": "code",
   "execution_count": 42,
   "metadata": {},
   "outputs": [],
   "source": [
    "rfdf = rfdf.drop(['SALE TYPE', 'SOLD DATE', 'PROPERTY TYPE', 'ADDRESS', 'CITY',\n",
    "       'STATE OR PROVINCE', 'LOCATION', 'LOT SIZE', 'DAYS ON MARKET',\n",
    "       '$/SQUARE FEET', 'HOA/MONTH', 'STATUS', 'NEXT OPEN HOUSE START TIME',\n",
    "       'NEXT OPEN HOUSE END TIME', 'URL (SEE http://www.redfin.com/buy-a-home/comparative-market-analysis FOR INFO ON PRICING)',\n",
    "       'SOURCE', 'MLS#', 'FAVORITE', 'INTERESTED'], axis = 1)"
   ]
  },
  {
   "cell_type": "code",
   "execution_count": 43,
   "metadata": {},
   "outputs": [
    {
     "data": {
      "text/html": [
       "<div>\n",
       "<style scoped>\n",
       "    .dataframe tbody tr th:only-of-type {\n",
       "        vertical-align: middle;\n",
       "    }\n",
       "\n",
       "    .dataframe tbody tr th {\n",
       "        vertical-align: top;\n",
       "    }\n",
       "\n",
       "    .dataframe thead th {\n",
       "        text-align: right;\n",
       "    }\n",
       "</style>\n",
       "<table border=\"1\" class=\"dataframe\">\n",
       "  <thead>\n",
       "    <tr style=\"text-align: right;\">\n",
       "      <th></th>\n",
       "      <th>ZIP OR POSTAL CODE</th>\n",
       "      <th>PRICE</th>\n",
       "      <th>BEDS</th>\n",
       "      <th>BATHS</th>\n",
       "      <th>SQUARE FEET</th>\n",
       "      <th>YEAR BUILT</th>\n",
       "      <th>LATITUDE</th>\n",
       "      <th>LONGITUDE</th>\n",
       "    </tr>\n",
       "  </thead>\n",
       "  <tbody>\n",
       "    <tr>\n",
       "      <td>0</td>\n",
       "      <td>98007</td>\n",
       "      <td>530000</td>\n",
       "      <td>3</td>\n",
       "      <td>2.50</td>\n",
       "      <td>1430.0</td>\n",
       "      <td>1969.0</td>\n",
       "      <td>47.596824</td>\n",
       "      <td>-122.141047</td>\n",
       "    </tr>\n",
       "    <tr>\n",
       "      <td>1</td>\n",
       "      <td>98030</td>\n",
       "      <td>525000</td>\n",
       "      <td>5</td>\n",
       "      <td>2.75</td>\n",
       "      <td>3060.0</td>\n",
       "      <td>1966.0</td>\n",
       "      <td>47.381374</td>\n",
       "      <td>-122.223471</td>\n",
       "    </tr>\n",
       "    <tr>\n",
       "      <td>2</td>\n",
       "      <td>98030</td>\n",
       "      <td>599950</td>\n",
       "      <td>4</td>\n",
       "      <td>2.50</td>\n",
       "      <td>2530.0</td>\n",
       "      <td>2012.0</td>\n",
       "      <td>47.383484</td>\n",
       "      <td>-122.188258</td>\n",
       "    </tr>\n",
       "    <tr>\n",
       "      <td>3</td>\n",
       "      <td>98028</td>\n",
       "      <td>710000</td>\n",
       "      <td>4</td>\n",
       "      <td>2.50</td>\n",
       "      <td>2210.0</td>\n",
       "      <td>2003.0</td>\n",
       "      <td>47.776688</td>\n",
       "      <td>-122.239202</td>\n",
       "    </tr>\n",
       "    <tr>\n",
       "      <td>4</td>\n",
       "      <td>98092</td>\n",
       "      <td>474950</td>\n",
       "      <td>3</td>\n",
       "      <td>2.50</td>\n",
       "      <td>2242.0</td>\n",
       "      <td>2013.0</td>\n",
       "      <td>47.258114</td>\n",
       "      <td>-122.201669</td>\n",
       "    </tr>\n",
       "    <tr>\n",
       "      <td>...</td>\n",
       "      <td>...</td>\n",
       "      <td>...</td>\n",
       "      <td>...</td>\n",
       "      <td>...</td>\n",
       "      <td>...</td>\n",
       "      <td>...</td>\n",
       "      <td>...</td>\n",
       "      <td>...</td>\n",
       "    </tr>\n",
       "    <tr>\n",
       "      <td>345</td>\n",
       "      <td>98045</td>\n",
       "      <td>424900</td>\n",
       "      <td>3</td>\n",
       "      <td>1.00</td>\n",
       "      <td>1230.0</td>\n",
       "      <td>1980.0</td>\n",
       "      <td>47.449449</td>\n",
       "      <td>-121.779896</td>\n",
       "    </tr>\n",
       "    <tr>\n",
       "      <td>346</td>\n",
       "      <td>98022</td>\n",
       "      <td>59950</td>\n",
       "      <td>0</td>\n",
       "      <td>NaN</td>\n",
       "      <td>NaN</td>\n",
       "      <td>NaN</td>\n",
       "      <td>47.264373</td>\n",
       "      <td>-121.981581</td>\n",
       "    </tr>\n",
       "    <tr>\n",
       "      <td>347</td>\n",
       "      <td>98115</td>\n",
       "      <td>1690000</td>\n",
       "      <td>3</td>\n",
       "      <td>2.50</td>\n",
       "      <td>2494.0</td>\n",
       "      <td>1957.0</td>\n",
       "      <td>47.682479</td>\n",
       "      <td>-122.281476</td>\n",
       "    </tr>\n",
       "    <tr>\n",
       "      <td>348</td>\n",
       "      <td>98003</td>\n",
       "      <td>89500</td>\n",
       "      <td>3</td>\n",
       "      <td>1.75</td>\n",
       "      <td>1867.0</td>\n",
       "      <td>1980.0</td>\n",
       "      <td>47.271061</td>\n",
       "      <td>-122.300694</td>\n",
       "    </tr>\n",
       "    <tr>\n",
       "      <td>349</td>\n",
       "      <td>98105</td>\n",
       "      <td>365000</td>\n",
       "      <td>1</td>\n",
       "      <td>1.00</td>\n",
       "      <td>480.0</td>\n",
       "      <td>1926.0</td>\n",
       "      <td>47.659247</td>\n",
       "      <td>-122.318505</td>\n",
       "    </tr>\n",
       "  </tbody>\n",
       "</table>\n",
       "<p>350 rows × 8 columns</p>\n",
       "</div>"
      ],
      "text/plain": [
       "     ZIP OR POSTAL CODE    PRICE  BEDS  BATHS  SQUARE FEET  YEAR BUILT  \\\n",
       "0                 98007   530000     3   2.50       1430.0      1969.0   \n",
       "1                 98030   525000     5   2.75       3060.0      1966.0   \n",
       "2                 98030   599950     4   2.50       2530.0      2012.0   \n",
       "3                 98028   710000     4   2.50       2210.0      2003.0   \n",
       "4                 98092   474950     3   2.50       2242.0      2013.0   \n",
       "..                  ...      ...   ...    ...          ...         ...   \n",
       "345               98045   424900     3   1.00       1230.0      1980.0   \n",
       "346               98022    59950     0    NaN          NaN         NaN   \n",
       "347               98115  1690000     3   2.50       2494.0      1957.0   \n",
       "348               98003    89500     3   1.75       1867.0      1980.0   \n",
       "349               98105   365000     1   1.00        480.0      1926.0   \n",
       "\n",
       "      LATITUDE   LONGITUDE  \n",
       "0    47.596824 -122.141047  \n",
       "1    47.381374 -122.223471  \n",
       "2    47.383484 -122.188258  \n",
       "3    47.776688 -122.239202  \n",
       "4    47.258114 -122.201669  \n",
       "..         ...         ...  \n",
       "345  47.449449 -121.779896  \n",
       "346  47.264373 -121.981581  \n",
       "347  47.682479 -122.281476  \n",
       "348  47.271061 -122.300694  \n",
       "349  47.659247 -122.318505  \n",
       "\n",
       "[350 rows x 8 columns]"
      ]
     },
     "execution_count": 43,
     "metadata": {},
     "output_type": "execute_result"
    }
   ],
   "source": [
    "rfdf"
   ]
  },
  {
   "cell_type": "code",
   "execution_count": 44,
   "metadata": {},
   "outputs": [],
   "source": [
    "rfdf = rfdf.rename(columns = {'ZIP OR POSTAL CODE' : 'zipcode', 'PRICE' : 'price', 'BEDS' : 'bedrooms', 'BATHS' : 'bathrooms', 'SQUARE FEET' : 'sqft_living', 'YEAR BUILT' : 'yr_built', 'LATITUDE':'lat', 'LONGITUDE':'long'})"
   ]
  },
  {
   "cell_type": "code",
   "execution_count": 45,
   "metadata": {},
   "outputs": [
    {
     "data": {
      "text/html": [
       "<div>\n",
       "<style scoped>\n",
       "    .dataframe tbody tr th:only-of-type {\n",
       "        vertical-align: middle;\n",
       "    }\n",
       "\n",
       "    .dataframe tbody tr th {\n",
       "        vertical-align: top;\n",
       "    }\n",
       "\n",
       "    .dataframe thead th {\n",
       "        text-align: right;\n",
       "    }\n",
       "</style>\n",
       "<table border=\"1\" class=\"dataframe\">\n",
       "  <thead>\n",
       "    <tr style=\"text-align: right;\">\n",
       "      <th></th>\n",
       "      <th>zipcode</th>\n",
       "      <th>price</th>\n",
       "      <th>bedrooms</th>\n",
       "      <th>bathrooms</th>\n",
       "      <th>sqft_living</th>\n",
       "      <th>yr_built</th>\n",
       "      <th>lat</th>\n",
       "      <th>long</th>\n",
       "    </tr>\n",
       "  </thead>\n",
       "  <tbody>\n",
       "    <tr>\n",
       "      <td>0</td>\n",
       "      <td>98007</td>\n",
       "      <td>530000</td>\n",
       "      <td>3</td>\n",
       "      <td>2.50</td>\n",
       "      <td>1430.0</td>\n",
       "      <td>1969.0</td>\n",
       "      <td>47.596824</td>\n",
       "      <td>-122.141047</td>\n",
       "    </tr>\n",
       "    <tr>\n",
       "      <td>1</td>\n",
       "      <td>98030</td>\n",
       "      <td>525000</td>\n",
       "      <td>5</td>\n",
       "      <td>2.75</td>\n",
       "      <td>3060.0</td>\n",
       "      <td>1966.0</td>\n",
       "      <td>47.381374</td>\n",
       "      <td>-122.223471</td>\n",
       "    </tr>\n",
       "    <tr>\n",
       "      <td>2</td>\n",
       "      <td>98030</td>\n",
       "      <td>599950</td>\n",
       "      <td>4</td>\n",
       "      <td>2.50</td>\n",
       "      <td>2530.0</td>\n",
       "      <td>2012.0</td>\n",
       "      <td>47.383484</td>\n",
       "      <td>-122.188258</td>\n",
       "    </tr>\n",
       "    <tr>\n",
       "      <td>3</td>\n",
       "      <td>98028</td>\n",
       "      <td>710000</td>\n",
       "      <td>4</td>\n",
       "      <td>2.50</td>\n",
       "      <td>2210.0</td>\n",
       "      <td>2003.0</td>\n",
       "      <td>47.776688</td>\n",
       "      <td>-122.239202</td>\n",
       "    </tr>\n",
       "    <tr>\n",
       "      <td>4</td>\n",
       "      <td>98092</td>\n",
       "      <td>474950</td>\n",
       "      <td>3</td>\n",
       "      <td>2.50</td>\n",
       "      <td>2242.0</td>\n",
       "      <td>2013.0</td>\n",
       "      <td>47.258114</td>\n",
       "      <td>-122.201669</td>\n",
       "    </tr>\n",
       "    <tr>\n",
       "      <td>...</td>\n",
       "      <td>...</td>\n",
       "      <td>...</td>\n",
       "      <td>...</td>\n",
       "      <td>...</td>\n",
       "      <td>...</td>\n",
       "      <td>...</td>\n",
       "      <td>...</td>\n",
       "      <td>...</td>\n",
       "    </tr>\n",
       "    <tr>\n",
       "      <td>345</td>\n",
       "      <td>98045</td>\n",
       "      <td>424900</td>\n",
       "      <td>3</td>\n",
       "      <td>1.00</td>\n",
       "      <td>1230.0</td>\n",
       "      <td>1980.0</td>\n",
       "      <td>47.449449</td>\n",
       "      <td>-121.779896</td>\n",
       "    </tr>\n",
       "    <tr>\n",
       "      <td>346</td>\n",
       "      <td>98022</td>\n",
       "      <td>59950</td>\n",
       "      <td>0</td>\n",
       "      <td>NaN</td>\n",
       "      <td>NaN</td>\n",
       "      <td>NaN</td>\n",
       "      <td>47.264373</td>\n",
       "      <td>-121.981581</td>\n",
       "    </tr>\n",
       "    <tr>\n",
       "      <td>347</td>\n",
       "      <td>98115</td>\n",
       "      <td>1690000</td>\n",
       "      <td>3</td>\n",
       "      <td>2.50</td>\n",
       "      <td>2494.0</td>\n",
       "      <td>1957.0</td>\n",
       "      <td>47.682479</td>\n",
       "      <td>-122.281476</td>\n",
       "    </tr>\n",
       "    <tr>\n",
       "      <td>348</td>\n",
       "      <td>98003</td>\n",
       "      <td>89500</td>\n",
       "      <td>3</td>\n",
       "      <td>1.75</td>\n",
       "      <td>1867.0</td>\n",
       "      <td>1980.0</td>\n",
       "      <td>47.271061</td>\n",
       "      <td>-122.300694</td>\n",
       "    </tr>\n",
       "    <tr>\n",
       "      <td>349</td>\n",
       "      <td>98105</td>\n",
       "      <td>365000</td>\n",
       "      <td>1</td>\n",
       "      <td>1.00</td>\n",
       "      <td>480.0</td>\n",
       "      <td>1926.0</td>\n",
       "      <td>47.659247</td>\n",
       "      <td>-122.318505</td>\n",
       "    </tr>\n",
       "  </tbody>\n",
       "</table>\n",
       "<p>350 rows × 8 columns</p>\n",
       "</div>"
      ],
      "text/plain": [
       "     zipcode    price  bedrooms  bathrooms  sqft_living  yr_built        lat  \\\n",
       "0      98007   530000         3       2.50       1430.0    1969.0  47.596824   \n",
       "1      98030   525000         5       2.75       3060.0    1966.0  47.381374   \n",
       "2      98030   599950         4       2.50       2530.0    2012.0  47.383484   \n",
       "3      98028   710000         4       2.50       2210.0    2003.0  47.776688   \n",
       "4      98092   474950         3       2.50       2242.0    2013.0  47.258114   \n",
       "..       ...      ...       ...        ...          ...       ...        ...   \n",
       "345    98045   424900         3       1.00       1230.0    1980.0  47.449449   \n",
       "346    98022    59950         0        NaN          NaN       NaN  47.264373   \n",
       "347    98115  1690000         3       2.50       2494.0    1957.0  47.682479   \n",
       "348    98003    89500         3       1.75       1867.0    1980.0  47.271061   \n",
       "349    98105   365000         1       1.00        480.0    1926.0  47.659247   \n",
       "\n",
       "           long  \n",
       "0   -122.141047  \n",
       "1   -122.223471  \n",
       "2   -122.188258  \n",
       "3   -122.239202  \n",
       "4   -122.201669  \n",
       "..          ...  \n",
       "345 -121.779896  \n",
       "346 -121.981581  \n",
       "347 -122.281476  \n",
       "348 -122.300694  \n",
       "349 -122.318505  \n",
       "\n",
       "[350 rows x 8 columns]"
      ]
     },
     "execution_count": 45,
     "metadata": {},
     "output_type": "execute_result"
    }
   ],
   "source": [
    "rfdf"
   ]
  },
  {
   "cell_type": "code",
   "execution_count": 38,
   "metadata": {},
   "outputs": [],
   "source": [
    "rfdf.to_csv(path_or_buf='~/Documents/Redfin_KC_listings.csv')"
   ]
  },
  {
   "cell_type": "code",
   "execution_count": null,
   "metadata": {},
   "outputs": [],
   "source": []
  }
 ],
 "metadata": {
  "kernelspec": {
   "display_name": "Python 3",
   "language": "python",
   "name": "python3"
  },
  "language_info": {
   "codemirror_mode": {
    "name": "ipython",
    "version": 3
   },
   "file_extension": ".py",
   "mimetype": "text/x-python",
   "name": "python",
   "nbconvert_exporter": "python",
   "pygments_lexer": "ipython3",
   "version": "3.6.9"
  }
 },
 "nbformat": 4,
 "nbformat_minor": 2
}
