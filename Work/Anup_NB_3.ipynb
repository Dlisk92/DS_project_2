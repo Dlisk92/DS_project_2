{
 "cells": [
  {
   "cell_type": "code",
   "execution_count": 1,
   "metadata": {},
   "outputs": [],
   "source": [
    "import pandas as pd\n",
    "import numpy as np\n",
    "import seaborn as sns\n",
    "import matplotlib.pyplot as plt"
   ]
  },
  {
   "cell_type": "code",
   "execution_count": 2,
   "metadata": {},
   "outputs": [],
   "source": [
    "from sklearn.tree import DecisionTreeRegressor\n",
    "from sklearn.ensemble import GradientBoostingRegressor, RandomForestRegressor\n",
    "from sklearn.metrics import mean_absolute_error, r2_score\n",
    "from sklearn.model_selection import train_test_split\n",
    "from sklearn.neighbors import KNeighborsRegressor"
   ]
  },
  {
   "cell_type": "code",
   "execution_count": 3,
   "metadata": {},
   "outputs": [],
   "source": [
    "df = pd.read_csv('Cleaned_Housing_Data_v3.csv')"
   ]
  },
  {
   "cell_type": "code",
   "execution_count": 4,
   "metadata": {},
   "outputs": [
    {
     "data": {
      "text/html": [
       "<div>\n",
       "<style scoped>\n",
       "    .dataframe tbody tr th:only-of-type {\n",
       "        vertical-align: middle;\n",
       "    }\n",
       "\n",
       "    .dataframe tbody tr th {\n",
       "        vertical-align: top;\n",
       "    }\n",
       "\n",
       "    .dataframe thead th {\n",
       "        text-align: right;\n",
       "    }\n",
       "</style>\n",
       "<table border=\"1\" class=\"dataframe\">\n",
       "  <thead>\n",
       "    <tr style=\"text-align: right;\">\n",
       "      <th></th>\n",
       "      <th>Unnamed: 0</th>\n",
       "      <th>price</th>\n",
       "      <th>bedrooms</th>\n",
       "      <th>bathrooms</th>\n",
       "      <th>sqft_living</th>\n",
       "      <th>sqft_lot</th>\n",
       "      <th>floors</th>\n",
       "      <th>view</th>\n",
       "      <th>condition</th>\n",
       "      <th>grade</th>\n",
       "      <th>sqft_above</th>\n",
       "      <th>sqft_basement</th>\n",
       "      <th>yr_built</th>\n",
       "      <th>yr_renovated</th>\n",
       "      <th>zipcode</th>\n",
       "      <th>lat</th>\n",
       "      <th>long</th>\n",
       "      <th>sqft_living15</th>\n",
       "      <th>sqft_lot15</th>\n",
       "    </tr>\n",
       "  </thead>\n",
       "  <tbody>\n",
       "    <tr>\n",
       "      <th>0</th>\n",
       "      <td>0</td>\n",
       "      <td>12.309987</td>\n",
       "      <td>0.50</td>\n",
       "      <td>0.08</td>\n",
       "      <td>0.351072</td>\n",
       "      <td>0.466447</td>\n",
       "      <td>0.0</td>\n",
       "      <td>0.0</td>\n",
       "      <td>0.5</td>\n",
       "      <td>0.4</td>\n",
       "      <td>0.376727</td>\n",
       "      <td>0.000000</td>\n",
       "      <td>0.361635</td>\n",
       "      <td>0.0</td>\n",
       "      <td>0.893939</td>\n",
       "      <td>0.571498</td>\n",
       "      <td>0.217608</td>\n",
       "      <td>0.441078</td>\n",
       "      <td>0.462941</td>\n",
       "    </tr>\n",
       "    <tr>\n",
       "      <th>1</th>\n",
       "      <td>1</td>\n",
       "      <td>13.195616</td>\n",
       "      <td>0.50</td>\n",
       "      <td>0.28</td>\n",
       "      <td>0.586935</td>\n",
       "      <td>0.503833</td>\n",
       "      <td>0.4</td>\n",
       "      <td>0.0</td>\n",
       "      <td>0.5</td>\n",
       "      <td>0.4</td>\n",
       "      <td>0.574809</td>\n",
       "      <td>0.082988</td>\n",
       "      <td>0.329309</td>\n",
       "      <td>0.4</td>\n",
       "      <td>0.626263</td>\n",
       "      <td>0.908959</td>\n",
       "      <td>0.166113</td>\n",
       "      <td>0.525634</td>\n",
       "      <td>0.512823</td>\n",
       "    </tr>\n",
       "    <tr>\n",
       "      <th>2</th>\n",
       "      <td>2</td>\n",
       "      <td>12.100718</td>\n",
       "      <td>0.25</td>\n",
       "      <td>0.08</td>\n",
       "      <td>0.221781</td>\n",
       "      <td>0.549846</td>\n",
       "      <td>0.0</td>\n",
       "      <td>0.0</td>\n",
       "      <td>0.5</td>\n",
       "      <td>0.3</td>\n",
       "      <td>0.237989</td>\n",
       "      <td>0.000000</td>\n",
       "      <td>0.196551</td>\n",
       "      <td>0.0</td>\n",
       "      <td>0.136364</td>\n",
       "      <td>0.936143</td>\n",
       "      <td>0.237542</td>\n",
       "      <td>0.699074</td>\n",
       "      <td>0.521418</td>\n",
       "    </tr>\n",
       "    <tr>\n",
       "      <th>3</th>\n",
       "      <td>3</td>\n",
       "      <td>13.311331</td>\n",
       "      <td>0.75</td>\n",
       "      <td>0.40</td>\n",
       "      <td>0.504819</td>\n",
       "      <td>0.447377</td>\n",
       "      <td>0.0</td>\n",
       "      <td>0.0</td>\n",
       "      <td>1.0</td>\n",
       "      <td>0.4</td>\n",
       "      <td>0.338785</td>\n",
       "      <td>0.188797</td>\n",
       "      <td>0.447334</td>\n",
       "      <td>0.0</td>\n",
       "      <td>0.681818</td>\n",
       "      <td>0.586939</td>\n",
       "      <td>0.104651</td>\n",
       "      <td>0.446476</td>\n",
       "      <td>0.441839</td>\n",
       "    </tr>\n",
       "    <tr>\n",
       "      <th>4</th>\n",
       "      <td>4</td>\n",
       "      <td>13.142168</td>\n",
       "      <td>0.50</td>\n",
       "      <td>0.24</td>\n",
       "      <td>0.458107</td>\n",
       "      <td>0.519766</td>\n",
       "      <td>0.0</td>\n",
       "      <td>0.0</td>\n",
       "      <td>0.5</td>\n",
       "      <td>0.5</td>\n",
       "      <td>0.491584</td>\n",
       "      <td>0.000000</td>\n",
       "      <td>0.662874</td>\n",
       "      <td>0.0</td>\n",
       "      <td>0.368687</td>\n",
       "      <td>0.741354</td>\n",
       "      <td>0.393688</td>\n",
       "      <td>0.548613</td>\n",
       "      <td>0.509937</td>\n",
       "    </tr>\n",
       "  </tbody>\n",
       "</table>\n",
       "</div>"
      ],
      "text/plain": [
       "   Unnamed: 0      price  bedrooms  bathrooms  sqft_living  sqft_lot  floors  \\\n",
       "0           0  12.309987      0.50       0.08     0.351072  0.466447     0.0   \n",
       "1           1  13.195616      0.50       0.28     0.586935  0.503833     0.4   \n",
       "2           2  12.100718      0.25       0.08     0.221781  0.549846     0.0   \n",
       "3           3  13.311331      0.75       0.40     0.504819  0.447377     0.0   \n",
       "4           4  13.142168      0.50       0.24     0.458107  0.519766     0.0   \n",
       "\n",
       "   view  condition  grade  sqft_above  sqft_basement  yr_built  yr_renovated  \\\n",
       "0   0.0        0.5    0.4    0.376727       0.000000  0.361635           0.0   \n",
       "1   0.0        0.5    0.4    0.574809       0.082988  0.329309           0.4   \n",
       "2   0.0        0.5    0.3    0.237989       0.000000  0.196551           0.0   \n",
       "3   0.0        1.0    0.4    0.338785       0.188797  0.447334           0.0   \n",
       "4   0.0        0.5    0.5    0.491584       0.000000  0.662874           0.0   \n",
       "\n",
       "    zipcode       lat      long  sqft_living15  sqft_lot15  \n",
       "0  0.893939  0.571498  0.217608       0.441078    0.462941  \n",
       "1  0.626263  0.908959  0.166113       0.525634    0.512823  \n",
       "2  0.136364  0.936143  0.237542       0.699074    0.521418  \n",
       "3  0.681818  0.586939  0.104651       0.446476    0.441839  \n",
       "4  0.368687  0.741354  0.393688       0.548613    0.509937  "
      ]
     },
     "execution_count": 4,
     "metadata": {},
     "output_type": "execute_result"
    }
   ],
   "source": [
    "df.head()"
   ]
  },
  {
   "cell_type": "code",
   "execution_count": 5,
   "metadata": {},
   "outputs": [],
   "source": [
    "df = df.drop(columns = 'Unnamed: 0')"
   ]
  },
  {
   "cell_type": "code",
   "execution_count": 10,
   "metadata": {},
   "outputs": [
    {
     "data": {
      "text/html": [
       "<div>\n",
       "<style scoped>\n",
       "    .dataframe tbody tr th:only-of-type {\n",
       "        vertical-align: middle;\n",
       "    }\n",
       "\n",
       "    .dataframe tbody tr th {\n",
       "        vertical-align: top;\n",
       "    }\n",
       "\n",
       "    .dataframe thead th {\n",
       "        text-align: right;\n",
       "    }\n",
       "</style>\n",
       "<table border=\"1\" class=\"dataframe\">\n",
       "  <thead>\n",
       "    <tr style=\"text-align: right;\">\n",
       "      <th></th>\n",
       "      <th>price</th>\n",
       "      <th>bedrooms</th>\n",
       "      <th>bathrooms</th>\n",
       "      <th>sqft_living</th>\n",
       "      <th>sqft_lot</th>\n",
       "      <th>floors</th>\n",
       "      <th>view</th>\n",
       "      <th>condition</th>\n",
       "      <th>grade</th>\n",
       "      <th>sqft_above</th>\n",
       "      <th>sqft_basement</th>\n",
       "      <th>yr_built</th>\n",
       "      <th>yr_renovated</th>\n",
       "      <th>zipcode</th>\n",
       "      <th>lat</th>\n",
       "      <th>long</th>\n",
       "      <th>sqft_living15</th>\n",
       "      <th>sqft_lot15</th>\n",
       "    </tr>\n",
       "  </thead>\n",
       "  <tbody>\n",
       "    <tr>\n",
       "      <th>2222</th>\n",
       "      <td>12.517231</td>\n",
       "      <td>0.25</td>\n",
       "      <td>0.0</td>\n",
       "      <td>0.351072</td>\n",
       "      <td>0.513738</td>\n",
       "      <td>0.0</td>\n",
       "      <td>0.0</td>\n",
       "      <td>0.75</td>\n",
       "      <td>0.3</td>\n",
       "      <td>0.151487</td>\n",
       "      <td>0.122407</td>\n",
       "      <td>0.282806</td>\n",
       "      <td>0.0</td>\n",
       "      <td>0.777778</td>\n",
       "      <td>0.986167</td>\n",
       "      <td>0.168605</td>\n",
       "      <td>0.451795</td>\n",
       "      <td>0.538266</td>\n",
       "    </tr>\n",
       "    <tr>\n",
       "      <th>10232</th>\n",
       "      <td>11.599112</td>\n",
       "      <td>0.25</td>\n",
       "      <td>0.0</td>\n",
       "      <td>0.135997</td>\n",
       "      <td>0.496687</td>\n",
       "      <td>0.0</td>\n",
       "      <td>0.0</td>\n",
       "      <td>0.50</td>\n",
       "      <td>0.2</td>\n",
       "      <td>0.145935</td>\n",
       "      <td>0.000000</td>\n",
       "      <td>0.253080</td>\n",
       "      <td>0.0</td>\n",
       "      <td>0.590909</td>\n",
       "      <td>0.575197</td>\n",
       "      <td>0.213455</td>\n",
       "      <td>0.498796</td>\n",
       "      <td>0.443231</td>\n",
       "    </tr>\n",
       "    <tr>\n",
       "      <th>11465</th>\n",
       "      <td>12.449023</td>\n",
       "      <td>0.00</td>\n",
       "      <td>0.0</td>\n",
       "      <td>0.262218</td>\n",
       "      <td>0.251413</td>\n",
       "      <td>0.0</td>\n",
       "      <td>0.0</td>\n",
       "      <td>0.50</td>\n",
       "      <td>0.3</td>\n",
       "      <td>0.097736</td>\n",
       "      <td>0.078838</td>\n",
       "      <td>0.053832</td>\n",
       "      <td>0.0</td>\n",
       "      <td>0.631313</td>\n",
       "      <td>0.671224</td>\n",
       "      <td>0.122093</td>\n",
       "      <td>0.459631</td>\n",
       "      <td>0.347206</td>\n",
       "    </tr>\n",
       "    <tr>\n",
       "      <th>11825</th>\n",
       "      <td>12.652363</td>\n",
       "      <td>0.75</td>\n",
       "      <td>0.0</td>\n",
       "      <td>0.553296</td>\n",
       "      <td>0.464245</td>\n",
       "      <td>0.4</td>\n",
       "      <td>0.0</td>\n",
       "      <td>0.50</td>\n",
       "      <td>0.5</td>\n",
       "      <td>0.593730</td>\n",
       "      <td>0.000000</td>\n",
       "      <td>0.762947</td>\n",
       "      <td>0.0</td>\n",
       "      <td>0.459596</td>\n",
       "      <td>0.277626</td>\n",
       "      <td>0.291528</td>\n",
       "      <td>0.552640</td>\n",
       "      <td>0.483172</td>\n",
       "    </tr>\n",
       "  </tbody>\n",
       "</table>\n",
       "</div>"
      ],
      "text/plain": [
       "           price  bedrooms  bathrooms  sqft_living  sqft_lot  floors  view  \\\n",
       "2222   12.517231      0.25        0.0     0.351072  0.513738     0.0   0.0   \n",
       "10232  11.599112      0.25        0.0     0.135997  0.496687     0.0   0.0   \n",
       "11465  12.449023      0.00        0.0     0.262218  0.251413     0.0   0.0   \n",
       "11825  12.652363      0.75        0.0     0.553296  0.464245     0.4   0.0   \n",
       "\n",
       "       condition  grade  sqft_above  sqft_basement  yr_built  yr_renovated  \\\n",
       "2222        0.75    0.3    0.151487       0.122407  0.282806           0.0   \n",
       "10232       0.50    0.2    0.145935       0.000000  0.253080           0.0   \n",
       "11465       0.50    0.3    0.097736       0.078838  0.053832           0.0   \n",
       "11825       0.50    0.5    0.593730       0.000000  0.762947           0.0   \n",
       "\n",
       "        zipcode       lat      long  sqft_living15  sqft_lot15  \n",
       "2222   0.777778  0.986167  0.168605       0.451795    0.538266  \n",
       "10232  0.590909  0.575197  0.213455       0.498796    0.443231  \n",
       "11465  0.631313  0.671224  0.122093       0.459631    0.347206  \n",
       "11825  0.459596  0.277626  0.291528       0.552640    0.483172  "
      ]
     },
     "execution_count": 10,
     "metadata": {},
     "output_type": "execute_result"
    }
   ],
   "source": [
    "df[df.bathrooms == 0]"
   ]
  },
  {
   "cell_type": "markdown",
   "metadata": {},
   "source": [
    "# Trying out tree models"
   ]
  },
  {
   "cell_type": "code",
   "execution_count": 40,
   "metadata": {},
   "outputs": [],
   "source": [
    "tree = DecisionTreeRegressor()\n",
    "rand_forest = RandomForestRegressor()\n",
    "g_boost = GradientBoostingRegressor()\n",
    "knn_reg = KNeighborsRegressor(n_neighbors = 25)"
   ]
  },
  {
   "cell_type": "code",
   "execution_count": 31,
   "metadata": {},
   "outputs": [],
   "source": [
    "target = 'price'\n",
    "used_cols = [col for col in df.columns if col not in target]"
   ]
  },
  {
   "cell_type": "code",
   "execution_count": 32,
   "metadata": {},
   "outputs": [],
   "source": [
    "X = df[used_cols]\n",
    "y = df[target]"
   ]
  },
  {
   "cell_type": "code",
   "execution_count": 33,
   "metadata": {},
   "outputs": [],
   "source": [
    "X_train, X_test, y_train, y_test = train_test_split(X, y, random_state = 1)"
   ]
  },
  {
   "cell_type": "code",
   "execution_count": 34,
   "metadata": {},
   "outputs": [
    {
     "name": "stdout",
     "output_type": "stream",
     "text": [
      "MAE: 99823.4660\n",
      "R squared: 0.7696\n"
     ]
    }
   ],
   "source": [
    "tree.fit(X_train, y_train)\n",
    "y_pred = tree.predict(X_test)\n",
    "mse = mean_absolute_error(np.expm1(y_test), np.expm1(y_pred))\n",
    "r2 = r2_score(y_test, y_pred)\n",
    "print(\"MAE: %.4f\" % mse)\n",
    "print(\"R squared: %.4f\" % r2)"
   ]
  },
  {
   "cell_type": "code",
   "execution_count": 35,
   "metadata": {},
   "outputs": [
    {
     "name": "stderr",
     "output_type": "stream",
     "text": [
      "C:\\Users\\anupj\\Anaconda3\\envs\\learn-env\\lib\\site-packages\\sklearn\\ensemble\\forest.py:245: FutureWarning: The default value of n_estimators will change from 10 in version 0.20 to 100 in 0.22.\n",
      "  \"10 in version 0.20 to 100 in 0.22.\", FutureWarning)\n"
     ]
    },
    {
     "name": "stdout",
     "output_type": "stream",
     "text": [
      "MAE: 74689.6621\n",
      "R squared: 0.8716\n"
     ]
    }
   ],
   "source": [
    "rand_forest.fit(X_train, y_train)\n",
    "y_pred = rand_forest.predict(X_test)\n",
    "mse = mean_absolute_error(np.expm1(y_test), np.expm1(y_pred))\n",
    "r2 = r2_score(y_test, y_pred)\n",
    "print(\"MAE: %.4f\" % mse)\n",
    "print(\"R squared: %.4f\" % r2)"
   ]
  },
  {
   "cell_type": "code",
   "execution_count": 36,
   "metadata": {},
   "outputs": [
    {
     "name": "stdout",
     "output_type": "stream",
     "text": [
      "MAE: 78414.5616\n",
      "R squared: 0.8673\n"
     ]
    }
   ],
   "source": [
    "g_boost.fit(X_train, y_train)\n",
    "y_pred = g_boost.predict(X_test)\n",
    "mse = mean_absolute_error(np.expm1(y_test), np.expm1(y_pred))\n",
    "r2 = r2_score(y_test, y_pred)\n",
    "print(\"MAE: %.4f\" % mse)\n",
    "print(\"R squared: %.4f\" % r2)"
   ]
  },
  {
   "cell_type": "code",
   "execution_count": 41,
   "metadata": {},
   "outputs": [
    {
     "name": "stdout",
     "output_type": "stream",
     "text": [
      "MAE: 92743.6333\n",
      "R squared: 0.8246\n"
     ]
    }
   ],
   "source": [
    "knn_reg.fit(X_train, y_train)\n",
    "y_pred = knn_reg.predict(X_test)\n",
    "mse = mean_absolute_error(np.expm1(y_test), np.expm1(y_pred))\n",
    "r2 = r2_score(y_test, y_pred)\n",
    "print(\"MAE: %.4f\" % mse)\n",
    "print(\"R squared: %.4f\" % r2)"
   ]
  },
  {
   "cell_type": "code",
   "execution_count": 13,
   "metadata": {},
   "outputs": [],
   "source": [
    "from mlxtend.feature_selection import SequentialFeatureSelector, ExhaustiveFeatureSelector"
   ]
  },
  {
   "cell_type": "code",
   "execution_count": 42,
   "metadata": {},
   "outputs": [],
   "source": [
    "sfs1 = SequentialFeatureSelector(rand_forest, \n",
    "           k_features= 'best', \n",
    "           forward=True, \n",
    "           floating=False, \n",
    "           verbose=2,\n",
    "           n_jobs = -1,\n",
    "           scoring='r2',\n",
    "           cv=0)"
   ]
  },
  {
   "cell_type": "code",
   "execution_count": 43,
   "metadata": {},
   "outputs": [
    {
     "name": "stderr",
     "output_type": "stream",
     "text": [
      "[Parallel(n_jobs=-1)]: Using backend LokyBackend with 8 concurrent workers.\n",
      "[Parallel(n_jobs=-1)]: Done  11 out of  17 | elapsed:    2.4s remaining:    1.3s\n",
      "[Parallel(n_jobs=-1)]: Done  17 out of  17 | elapsed:    2.7s finished\n",
      "\n",
      "[2020-01-02 15:40:44] Features: 1/17 -- score: 0.5294815323623483[Parallel(n_jobs=-1)]: Using backend LokyBackend with 8 concurrent workers.\n",
      "[Parallel(n_jobs=-1)]: Done  10 out of  16 | elapsed:    2.5s remaining:    1.5s\n",
      "[Parallel(n_jobs=-1)]: Done  16 out of  16 | elapsed:    2.8s finished\n",
      "\n",
      "[2020-01-02 15:40:47] Features: 2/17 -- score: 0.9148259927625222[Parallel(n_jobs=-1)]: Using backend LokyBackend with 8 concurrent workers.\n",
      "[Parallel(n_jobs=-1)]: Done   8 out of  15 | elapsed:    2.7s remaining:    2.4s\n",
      "[Parallel(n_jobs=-1)]: Done  15 out of  15 | elapsed:    3.3s finished\n",
      "\n",
      "[2020-01-02 15:40:51] Features: 3/17 -- score: 0.9639916678387442[Parallel(n_jobs=-1)]: Using backend LokyBackend with 8 concurrent workers.\n",
      "[Parallel(n_jobs=-1)]: Done   7 out of  14 | elapsed:    2.9s remaining:    2.9s\n",
      "[Parallel(n_jobs=-1)]: Done  14 out of  14 | elapsed:    3.5s finished\n",
      "\n",
      "[2020-01-02 15:40:55] Features: 4/17 -- score: 0.9696195648440462[Parallel(n_jobs=-1)]: Using backend LokyBackend with 8 concurrent workers.\n",
      "[Parallel(n_jobs=-1)]: Done   5 out of  13 | elapsed:    3.0s remaining:    4.9s\n",
      "[Parallel(n_jobs=-1)]: Done  13 out of  13 | elapsed:    3.9s finished\n",
      "\n",
      "[2020-01-02 15:40:59] Features: 5/17 -- score: 0.9724869034152458[Parallel(n_jobs=-1)]: Using backend LokyBackend with 8 concurrent workers.\n",
      "[Parallel(n_jobs=-1)]: Done   4 out of  12 | elapsed:    3.1s remaining:    6.3s\n",
      "[Parallel(n_jobs=-1)]: Done  12 out of  12 | elapsed:    3.9s finished\n",
      "\n",
      "[2020-01-02 15:41:04] Features: 6/17 -- score: 0.9738765646224392[Parallel(n_jobs=-1)]: Using backend LokyBackend with 8 concurrent workers.\n",
      "[Parallel(n_jobs=-1)]: Done   2 out of  11 | elapsed:    3.3s remaining:   15.2s\n",
      "[Parallel(n_jobs=-1)]: Done   8 out of  11 | elapsed:    3.5s remaining:    1.2s\n",
      "[Parallel(n_jobs=-1)]: Done  11 out of  11 | elapsed:    4.2s finished\n",
      "\n",
      "[2020-01-02 15:41:08] Features: 7/17 -- score: 0.9750639111546454[Parallel(n_jobs=-1)]: Using backend LokyBackend with 8 concurrent workers.\n",
      "[Parallel(n_jobs=-1)]: Done   7 out of  10 | elapsed:    3.4s remaining:    1.4s\n",
      "[Parallel(n_jobs=-1)]: Done  10 out of  10 | elapsed:    4.2s finished\n",
      "\n",
      "[2020-01-02 15:41:13] Features: 8/17 -- score: 0.975587001489312[Parallel(n_jobs=-1)]: Using backend LokyBackend with 8 concurrent workers.\n",
      "[Parallel(n_jobs=-1)]: Done   4 out of   9 | elapsed:    3.4s remaining:    4.2s\n",
      "[Parallel(n_jobs=-1)]: Done   9 out of   9 | elapsed:    4.3s remaining:    0.0s\n",
      "[Parallel(n_jobs=-1)]: Done   9 out of   9 | elapsed:    4.3s finished\n",
      "\n",
      "[2020-01-02 15:41:18] Features: 9/17 -- score: 0.9759304993685001[Parallel(n_jobs=-1)]: Using backend LokyBackend with 8 concurrent workers.\n",
      "[Parallel(n_jobs=-1)]: Done   3 out of   8 | elapsed:    3.6s remaining:    6.1s\n",
      "[Parallel(n_jobs=-1)]: Done   8 out of   8 | elapsed:    3.8s remaining:    0.0s\n",
      "[Parallel(n_jobs=-1)]: Done   8 out of   8 | elapsed:    3.8s finished\n",
      "\n",
      "[2020-01-02 15:41:22] Features: 10/17 -- score: 0.9758838948612765[Parallel(n_jobs=-1)]: Using backend LokyBackend with 8 concurrent workers.\n",
      "[Parallel(n_jobs=-1)]: Done   4 out of   7 | elapsed:    3.4s remaining:    2.5s\n",
      "[Parallel(n_jobs=-1)]: Done   7 out of   7 | elapsed:    3.4s finished\n",
      "\n",
      "[2020-01-02 15:41:26] Features: 11/17 -- score: 0.9761132596094654[Parallel(n_jobs=-1)]: Using backend LokyBackend with 8 concurrent workers.\n",
      "[Parallel(n_jobs=-1)]: Done   3 out of   6 | elapsed:    3.4s remaining:    3.4s\n",
      "[Parallel(n_jobs=-1)]: Done   6 out of   6 | elapsed:    3.5s finished\n",
      "\n",
      "[2020-01-02 15:41:30] Features: 12/17 -- score: 0.9756801796714187[Parallel(n_jobs=-1)]: Using backend LokyBackend with 8 concurrent workers.\n",
      "[Parallel(n_jobs=-1)]: Done   2 out of   5 | elapsed:    3.4s remaining:    5.1s\n",
      "[Parallel(n_jobs=-1)]: Done   5 out of   5 | elapsed:    3.4s remaining:    0.0s\n",
      "[Parallel(n_jobs=-1)]: Done   5 out of   5 | elapsed:    3.4s finished\n",
      "\n",
      "[2020-01-02 15:41:34] Features: 13/17 -- score: 0.9755568250702215[Parallel(n_jobs=-1)]: Using backend LokyBackend with 8 concurrent workers.\n",
      "[Parallel(n_jobs=-1)]: Done   4 out of   4 | elapsed:    3.0s remaining:    0.0s\n",
      "[Parallel(n_jobs=-1)]: Done   4 out of   4 | elapsed:    3.0s finished\n",
      "\n",
      "[2020-01-02 15:41:37] Features: 14/17 -- score: 0.9756897653438633[Parallel(n_jobs=-1)]: Using backend LokyBackend with 8 concurrent workers.\n",
      "[Parallel(n_jobs=-1)]: Done   3 out of   3 | elapsed:    2.8s finished\n",
      "\n",
      "[2020-01-02 15:41:41] Features: 15/17 -- score: 0.9755580493846296[Parallel(n_jobs=-1)]: Using backend LokyBackend with 8 concurrent workers.\n",
      "[Parallel(n_jobs=-1)]: Done   2 out of   2 | elapsed:    2.8s finished\n",
      "\n",
      "[2020-01-02 15:41:44] Features: 16/17 -- score: 0.9756510199061686[Parallel(n_jobs=-1)]: Using backend LokyBackend with 8 concurrent workers.\n",
      "[Parallel(n_jobs=-1)]: Done   1 out of   1 | elapsed:    2.7s finished\n",
      "\n",
      "[2020-01-02 15:41:47] Features: 17/17 -- score: 0.975097674132119"
     ]
    },
    {
     "data": {
      "text/plain": [
       "SequentialFeatureSelector(clone_estimator=True, cv=0,\n",
       "                          estimator=RandomForestRegressor(bootstrap=True,\n",
       "                                                          criterion='mse',\n",
       "                                                          max_depth=None,\n",
       "                                                          max_features='auto',\n",
       "                                                          max_leaf_nodes=None,\n",
       "                                                          min_impurity_decrease=0.0,\n",
       "                                                          min_impurity_split=None,\n",
       "                                                          min_samples_leaf=1,\n",
       "                                                          min_samples_split=2,\n",
       "                                                          min_weight_fraction_leaf=0.0,\n",
       "                                                          n_estimators='warn',\n",
       "                                                          n_jobs=None,\n",
       "                                                          oob_score=False,\n",
       "                                                          random_state=None,\n",
       "                                                          verbose=0,\n",
       "                                                          warm_start=False),\n",
       "                          floating=False, forward=True, k_features='best',\n",
       "                          n_jobs=-1, pre_dispatch='2*n_jobs', scoring='r2',\n",
       "                          verbose=2)"
      ]
     },
     "execution_count": 43,
     "metadata": {},
     "output_type": "execute_result"
    }
   ],
   "source": [
    "sfs1.fit(X, y)"
   ]
  },
  {
   "cell_type": "code",
   "execution_count": 59,
   "metadata": {},
   "outputs": [
    {
     "data": {
      "text/plain": [
       "('sqft_living',\n",
       " 'sqft_lot',\n",
       " 'view',\n",
       " 'condition',\n",
       " 'grade',\n",
       " 'sqft_above',\n",
       " 'yr_renovated',\n",
       " 'zipcode',\n",
       " 'lat',\n",
       " 'long',\n",
       " 'sqft_living15')"
      ]
     },
     "execution_count": 59,
     "metadata": {},
     "output_type": "execute_result"
    }
   ],
   "source": [
    "sfs1.k_feature_names_"
   ]
  },
  {
   "cell_type": "code",
   "execution_count": 60,
   "metadata": {},
   "outputs": [],
   "source": [
    "features_used = list(sfs1.k_feature_names_)"
   ]
  },
  {
   "cell_type": "code",
   "execution_count": 61,
   "metadata": {},
   "outputs": [],
   "source": [
    "X = df[features_used]\n",
    "y = df[target]"
   ]
  },
  {
   "cell_type": "code",
   "execution_count": 81,
   "metadata": {},
   "outputs": [],
   "source": [
    "X_train, X_test, y_train, y_test = train_test_split(X, y, random_state = 1)"
   ]
  },
  {
   "cell_type": "code",
   "execution_count": 63,
   "metadata": {},
   "outputs": [
    {
     "name": "stdout",
     "output_type": "stream",
     "text": [
      "MAE: 75858.7953\n",
      "R squared: 0.8703\n"
     ]
    }
   ],
   "source": [
    "rand_forest.fit(X_train, y_train)\n",
    "y_pred = rand_forest.predict(X_test)\n",
    "mse = mean_absolute_error(np.expm1(y_test), np.expm1(y_pred))\n",
    "r2 = r2_score(y_test, y_pred)\n",
    "print(\"MAE: %.4f\" % mse)\n",
    "print(\"R squared: %.4f\" % r2)"
   ]
  },
  {
   "cell_type": "code",
   "execution_count": 73,
   "metadata": {},
   "outputs": [
    {
     "data": {
      "image/png": "[encoded data removed]",
      "text/plain": [
       "<Figure size 432x288 with 1 Axes>"
      ]
     },
     "metadata": {},
     "output_type": "display_data"
    }
   ],
   "source": [
    "with plt.xkcd():\n",
    "    plt.scatter(range(len(y_test[:10])), y_test[:10])\n",
    "    plt.scatter(range(len(y_pred[:10])), y_pred[:10])\n"
   ]
  },
  {
   "cell_type": "code",
   "execution_count": 85,
   "metadata": {},
   "outputs": [
    {
     "data": {
      "text/html": [
       "<div>\n",
       "<style scoped>\n",
       "    .dataframe tbody tr th:only-of-type {\n",
       "        vertical-align: middle;\n",
       "    }\n",
       "\n",
       "    .dataframe tbody tr th {\n",
       "        vertical-align: top;\n",
       "    }\n",
       "\n",
       "    .dataframe thead th {\n",
       "        text-align: right;\n",
       "    }\n",
       "</style>\n",
       "<table border=\"1\" class=\"dataframe\">\n",
       "  <thead>\n",
       "    <tr style=\"text-align: right;\">\n",
       "      <th></th>\n",
       "      <th>sqft_living</th>\n",
       "      <th>sqft_lot</th>\n",
       "      <th>view</th>\n",
       "      <th>condition</th>\n",
       "      <th>grade</th>\n",
       "      <th>sqft_above</th>\n",
       "      <th>yr_renovated</th>\n",
       "      <th>zipcode</th>\n",
       "      <th>lat</th>\n",
       "      <th>long</th>\n",
       "      <th>sqft_living15</th>\n",
       "    </tr>\n",
       "  </thead>\n",
       "  <tbody>\n",
       "    <tr>\n",
       "      <th>945</th>\n",
       "      <td>0.391846</td>\n",
       "      <td>0.528379</td>\n",
       "      <td>0.0</td>\n",
       "      <td>1.00</td>\n",
       "      <td>0.3</td>\n",
       "      <td>0.420481</td>\n",
       "      <td>0.0</td>\n",
       "      <td>0.888889</td>\n",
       "      <td>0.973621</td>\n",
       "      <td>0.130399</td>\n",
       "      <td>0.601302</td>\n",
       "    </tr>\n",
       "    <tr>\n",
       "      <th>12019</th>\n",
       "      <td>0.675306</td>\n",
       "      <td>0.447377</td>\n",
       "      <td>0.0</td>\n",
       "      <td>0.50</td>\n",
       "      <td>0.8</td>\n",
       "      <td>0.628560</td>\n",
       "      <td>0.0</td>\n",
       "      <td>1.000000</td>\n",
       "      <td>0.822422</td>\n",
       "      <td>0.091362</td>\n",
       "      <td>0.745561</td>\n",
       "    </tr>\n",
       "    <tr>\n",
       "      <th>8952</th>\n",
       "      <td>0.756725</td>\n",
       "      <td>0.544875</td>\n",
       "      <td>1.0</td>\n",
       "      <td>0.75</td>\n",
       "      <td>0.5</td>\n",
       "      <td>0.680143</td>\n",
       "      <td>0.0</td>\n",
       "      <td>0.626263</td>\n",
       "      <td>0.917323</td>\n",
       "      <td>0.196844</td>\n",
       "      <td>0.707027</td>\n",
       "    </tr>\n",
       "    <tr>\n",
       "      <th>8983</th>\n",
       "      <td>0.419701</td>\n",
       "      <td>0.478676</td>\n",
       "      <td>0.0</td>\n",
       "      <td>0.50</td>\n",
       "      <td>0.4</td>\n",
       "      <td>0.450372</td>\n",
       "      <td>0.0</td>\n",
       "      <td>0.575758</td>\n",
       "      <td>0.852340</td>\n",
       "      <td>0.186047</td>\n",
       "      <td>0.477285</td>\n",
       "    </tr>\n",
       "    <tr>\n",
       "      <th>9998</th>\n",
       "      <td>0.394082</td>\n",
       "      <td>0.588913</td>\n",
       "      <td>0.0</td>\n",
       "      <td>0.50</td>\n",
       "      <td>0.4</td>\n",
       "      <td>0.422881</td>\n",
       "      <td>0.0</td>\n",
       "      <td>0.136364</td>\n",
       "      <td>0.975229</td>\n",
       "      <td>0.212625</td>\n",
       "      <td>0.491766</td>\n",
       "    </tr>\n",
       "    <tr>\n",
       "      <th>...</th>\n",
       "      <td>...</td>\n",
       "      <td>...</td>\n",
       "      <td>...</td>\n",
       "      <td>...</td>\n",
       "      <td>...</td>\n",
       "      <td>...</td>\n",
       "      <td>...</td>\n",
       "      <td>...</td>\n",
       "      <td>...</td>\n",
       "      <td>...</td>\n",
       "      <td>...</td>\n",
       "    </tr>\n",
       "    <tr>\n",
       "      <th>19201</th>\n",
       "      <td>0.561101</td>\n",
       "      <td>0.523383</td>\n",
       "      <td>0.0</td>\n",
       "      <td>0.50</td>\n",
       "      <td>0.4</td>\n",
       "      <td>0.413175</td>\n",
       "      <td>0.0</td>\n",
       "      <td>0.015152</td>\n",
       "      <td>0.750684</td>\n",
       "      <td>0.260797</td>\n",
       "      <td>0.523472</td>\n",
       "    </tr>\n",
       "    <tr>\n",
       "      <th>4649</th>\n",
       "      <td>0.285399</td>\n",
       "      <td>0.367784</td>\n",
       "      <td>0.0</td>\n",
       "      <td>0.75</td>\n",
       "      <td>0.3</td>\n",
       "      <td>0.306256</td>\n",
       "      <td>0.0</td>\n",
       "      <td>0.590909</td>\n",
       "      <td>0.635516</td>\n",
       "      <td>0.201827</td>\n",
       "      <td>0.409871</td>\n",
       "    </tr>\n",
       "    <tr>\n",
       "      <th>18927</th>\n",
       "      <td>0.693267</td>\n",
       "      <td>0.810362</td>\n",
       "      <td>0.0</td>\n",
       "      <td>0.50</td>\n",
       "      <td>0.7</td>\n",
       "      <td>0.556309</td>\n",
       "      <td>0.0</td>\n",
       "      <td>0.151515</td>\n",
       "      <td>0.392955</td>\n",
       "      <td>0.250831</td>\n",
       "      <td>0.675552</td>\n",
       "    </tr>\n",
       "    <tr>\n",
       "      <th>17364</th>\n",
       "      <td>0.475627</td>\n",
       "      <td>0.604737</td>\n",
       "      <td>0.0</td>\n",
       "      <td>0.50</td>\n",
       "      <td>0.4</td>\n",
       "      <td>0.347942</td>\n",
       "      <td>0.0</td>\n",
       "      <td>0.010101</td>\n",
       "      <td>0.164227</td>\n",
       "      <td>0.177741</td>\n",
       "      <td>0.546990</td>\n",
       "    </tr>\n",
       "    <tr>\n",
       "      <th>17747</th>\n",
       "      <td>0.065852</td>\n",
       "      <td>0.416242</td>\n",
       "      <td>0.0</td>\n",
       "      <td>0.50</td>\n",
       "      <td>0.1</td>\n",
       "      <td>0.070665</td>\n",
       "      <td>0.0</td>\n",
       "      <td>0.272727</td>\n",
       "      <td>0.532250</td>\n",
       "      <td>0.265781</td>\n",
       "      <td>0.330798</td>\n",
       "    </tr>\n",
       "  </tbody>\n",
       "</table>\n",
       "<p>5316 rows × 11 columns</p>\n",
       "</div>"
      ],
      "text/plain": [
       "       sqft_living  sqft_lot  view  condition  grade  sqft_above  \\\n",
       "945       0.391846  0.528379   0.0       1.00    0.3    0.420481   \n",
       "12019     0.675306  0.447377   0.0       0.50    0.8    0.628560   \n",
       "8952      0.756725  0.544875   1.0       0.75    0.5    0.680143   \n",
       "8983      0.419701  0.478676   0.0       0.50    0.4    0.450372   \n",
       "9998      0.394082  0.588913   0.0       0.50    0.4    0.422881   \n",
       "...            ...       ...   ...        ...    ...         ...   \n",
       "19201     0.561101  0.523383   0.0       0.50    0.4    0.413175   \n",
       "4649      0.285399  0.367784   0.0       0.75    0.3    0.306256   \n",
       "18927     0.693267  0.810362   0.0       0.50    0.7    0.556309   \n",
       "17364     0.475627  0.604737   0.0       0.50    0.4    0.347942   \n",
       "17747     0.065852  0.416242   0.0       0.50    0.1    0.070665   \n",
       "\n",
       "       yr_renovated   zipcode       lat      long  sqft_living15  \n",
       "945             0.0  0.888889  0.973621  0.130399       0.601302  \n",
       "12019           0.0  1.000000  0.822422  0.091362       0.745561  \n",
       "8952            0.0  0.626263  0.917323  0.196844       0.707027  \n",
       "8983            0.0  0.575758  0.852340  0.186047       0.477285  \n",
       "9998            0.0  0.136364  0.975229  0.212625       0.491766  \n",
       "...             ...       ...       ...       ...            ...  \n",
       "19201           0.0  0.015152  0.750684  0.260797       0.523472  \n",
       "4649            0.0  0.590909  0.635516  0.201827       0.409871  \n",
       "18927           0.0  0.151515  0.392955  0.250831       0.675552  \n",
       "17364           0.0  0.010101  0.164227  0.177741       0.546990  \n",
       "17747           0.0  0.272727  0.532250  0.265781       0.330798  \n",
       "\n",
       "[5316 rows x 11 columns]"
      ]
     },
     "execution_count": 85,
     "metadata": {},
     "output_type": "execute_result"
    }
   ],
   "source": [
    "X_test"
   ]
  },
  {
   "cell_type": "code",
   "execution_count": 87,
   "metadata": {},
   "outputs": [
    {
     "data": {
      "text/html": [
       "<div>\n",
       "<style scoped>\n",
       "    .dataframe tbody tr th:only-of-type {\n",
       "        vertical-align: middle;\n",
       "    }\n",
       "\n",
       "    .dataframe tbody tr th {\n",
       "        vertical-align: top;\n",
       "    }\n",
       "\n",
       "    .dataframe thead th {\n",
       "        text-align: right;\n",
       "    }\n",
       "</style>\n",
       "<table border=\"1\" class=\"dataframe\">\n",
       "  <thead>\n",
       "    <tr style=\"text-align: right;\">\n",
       "      <th></th>\n",
       "      <th>sqft_living</th>\n",
       "      <th>sqft_lot</th>\n",
       "      <th>view</th>\n",
       "      <th>condition</th>\n",
       "      <th>grade</th>\n",
       "      <th>sqft_above</th>\n",
       "      <th>yr_renovated</th>\n",
       "      <th>zipcode</th>\n",
       "      <th>lat</th>\n",
       "      <th>long</th>\n",
       "      <th>sqft_living15</th>\n",
       "    </tr>\n",
       "  </thead>\n",
       "  <tbody>\n",
       "    <tr>\n",
       "      <th>945</th>\n",
       "      <td>0.391846</td>\n",
       "      <td>0.528379</td>\n",
       "      <td>0.0</td>\n",
       "      <td>1.00</td>\n",
       "      <td>0.3</td>\n",
       "      <td>0.420481</td>\n",
       "      <td>0.0</td>\n",
       "      <td>0.888889</td>\n",
       "      <td>0.973621</td>\n",
       "      <td>0.130399</td>\n",
       "      <td>0.601302</td>\n",
       "    </tr>\n",
       "    <tr>\n",
       "      <th>12019</th>\n",
       "      <td>0.675306</td>\n",
       "      <td>0.447377</td>\n",
       "      <td>0.0</td>\n",
       "      <td>0.50</td>\n",
       "      <td>0.8</td>\n",
       "      <td>0.628560</td>\n",
       "      <td>0.0</td>\n",
       "      <td>1.000000</td>\n",
       "      <td>0.822422</td>\n",
       "      <td>0.091362</td>\n",
       "      <td>0.745561</td>\n",
       "    </tr>\n",
       "    <tr>\n",
       "      <th>8952</th>\n",
       "      <td>0.756725</td>\n",
       "      <td>0.544875</td>\n",
       "      <td>1.0</td>\n",
       "      <td>0.75</td>\n",
       "      <td>0.5</td>\n",
       "      <td>0.680143</td>\n",
       "      <td>0.0</td>\n",
       "      <td>0.626263</td>\n",
       "      <td>0.917323</td>\n",
       "      <td>0.196844</td>\n",
       "      <td>0.707027</td>\n",
       "    </tr>\n",
       "    <tr>\n",
       "      <th>9998</th>\n",
       "      <td>0.394082</td>\n",
       "      <td>0.588913</td>\n",
       "      <td>0.0</td>\n",
       "      <td>0.50</td>\n",
       "      <td>0.4</td>\n",
       "      <td>0.422881</td>\n",
       "      <td>0.0</td>\n",
       "      <td>0.136364</td>\n",
       "      <td>0.975229</td>\n",
       "      <td>0.212625</td>\n",
       "      <td>0.491766</td>\n",
       "    </tr>\n",
       "  </tbody>\n",
       "</table>\n",
       "</div>"
      ],
      "text/plain": [
       "       sqft_living  sqft_lot  view  condition  grade  sqft_above  \\\n",
       "945       0.391846  0.528379   0.0       1.00    0.3    0.420481   \n",
       "12019     0.675306  0.447377   0.0       0.50    0.8    0.628560   \n",
       "8952      0.756725  0.544875   1.0       0.75    0.5    0.680143   \n",
       "9998      0.394082  0.588913   0.0       0.50    0.4    0.422881   \n",
       "\n",
       "       yr_renovated   zipcode       lat      long  sqft_living15  \n",
       "945             0.0  0.888889  0.973621  0.130399       0.601302  \n",
       "12019           0.0  1.000000  0.822422  0.091362       0.745561  \n",
       "8952            0.0  0.626263  0.917323  0.196844       0.707027  \n",
       "9998            0.0  0.136364  0.975229  0.212625       0.491766  "
      ]
     },
     "execution_count": 87,
     "metadata": {},
     "output_type": "execute_result"
    }
   ],
   "source": [
    "X_test.loc[[945, 12019, 8952, 9998]]"
   ]
  },
  {
   "cell_type": "code",
   "execution_count": 88,
   "metadata": {},
   "outputs": [
    {
     "data": {
      "text/plain": [
       "array([12.78693992, 14.20594081, 14.26009071, 12.66775463])"
      ]
     },
     "execution_count": 88,
     "metadata": {},
     "output_type": "execute_result"
    }
   ],
   "source": [
    "rand_forest.predict(X_test.loc[[945, 12019, 8952, 9998]])"
   ]
  },
  {
   "cell_type": "code",
   "execution_count": 89,
   "metadata": {},
   "outputs": [
    {
     "data": {
      "text/plain": [
       "945      12.752751\n",
       "12019    14.085538\n",
       "8952     13.664689\n",
       "9998     12.706851\n",
       "Name: price, dtype: float64"
      ]
     },
     "execution_count": 89,
     "metadata": {},
     "output_type": "execute_result"
    }
   ],
   "source": [
    "y_test.loc[[945, 12019, 8952, 9998]]"
   ]
  },
  {
   "cell_type": "code",
   "execution_count": 21,
   "metadata": {},
   "outputs": [],
   "source": [
    "X = df[used_cols]\n",
    "y = df[target]"
   ]
  },
  {
   "cell_type": "markdown",
   "metadata": {},
   "source": [
    "efs1 = ExhaustiveFeatureSelector(rand_forest, \n",
    "           min_features= 8, \n",
    "           max_features = 17,\n",
    "           n_jobs = -1,\n",
    "           scoring='r2',\n",
    "           cv=0)"
   ]
  },
  {
   "cell_type": "markdown",
   "metadata": {},
   "source": [
    "efs1.fit(X, y)"
   ]
  },
  {
   "cell_type": "code",
   "execution_count": 26,
   "metadata": {},
   "outputs": [
    {
     "name": "stderr",
     "output_type": "stream",
     "text": [
      "Features: 15/15"
     ]
    },
    {
     "name": "stdout",
     "output_type": "stream",
     "text": [
      "Best accuracy score: 0.95\n",
      "Best subset (indices): (1, 2, 3)\n",
      "Best subset (corresponding names): ('1', '2', '3')\n"
     ]
    }
   ],
   "source": [
    "from sklearn.neighbors import KNeighborsClassifier\n",
    "from sklearn.datasets import load_iris\n",
    "from mlxtend.feature_selection import ExhaustiveFeatureSelector as EFS\n",
    "\n",
    "iris = load_iris()\n",
    "X = iris.data\n",
    "y = iris.target\n",
    "\n",
    "X_train, X_test, y_train, y_test = train_test_split(X, y, random_state = 1)\n",
    "\n",
    "knn = KNeighborsClassifier(n_neighbors=3)\n",
    "\n",
    "efs1 = EFS(knn, \n",
    "           min_features=1,\n",
    "           max_features=4,\n",
    "           scoring='accuracy',\n",
    "           print_progress=True,\n",
    "           cv=5)\n",
    "\n",
    "efs1 = efs1.fit(X_train, y_train)\n",
    "\n",
    "print('Best accuracy score: %.2f' % efs1.best_score_)\n",
    "print('Best subset (indices):', efs1.best_idx_)\n",
    "print('Best subset (corresponding names):', efs1.best_feature_names_)"
   ]
  },
  {
   "cell_type": "code",
   "execution_count": 28,
   "metadata": {},
   "outputs": [
    {
     "name": "stdout",
     "output_type": "stream",
     "text": [
      "MAE: 0.0000\n",
      "R squared: 1.0000\n"
     ]
    }
   ],
   "source": [
    "knn.fit(X_train, y_train)\n",
    "y_pred = knn.predict(X_test)\n",
    "mse = mean_absolute_error(np.expm1(y_test), np.expm1(y_pred))\n",
    "r2 = r2_score(y_test, y_pred)\n",
    "print(\"MAE: %.4f\" % mse)\n",
    "print(\"R squared: %.4f\" % r2)"
   ]
  },
  {
   "cell_type": "code",
   "execution_count": null,
   "metadata": {},
   "outputs": [],
   "source": []
  }
 ],
 "metadata": {
  "kernelspec": {
   "display_name": "Python [conda env:learn-env] *",
   "language": "python",
   "name": "conda-env-learn-env-py"
  },
  "language_info": {
   "codemirror_mode": {
    "name": "ipython",
    "version": 3
   },
   "file_extension": ".py",
   "mimetype": "text/x-python",
   "name": "python",
   "nbconvert_exporter": "python",
   "pygments_lexer": "ipython3",
   "version": "3.6.9"
  }
 },
 "nbformat": 4,
 "nbformat_minor": 4
}
